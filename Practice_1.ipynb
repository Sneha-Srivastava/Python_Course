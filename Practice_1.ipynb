{
  "nbformat": 4,
  "nbformat_minor": 0,
  "metadata": {
    "colab": {
      "name": "Practice 1.ipynb",
      "provenance": [],
      "collapsed_sections": [],
      "authorship_tag": "ABX9TyNNJVa6cWuxo/GCTkjlztVe",
      "include_colab_link": true
    },
    "kernelspec": {
      "name": "python3",
      "display_name": "Python 3"
    },
    "language_info": {
      "name": "python"
    }
  },
  "cells": [
    {
      "cell_type": "markdown",
      "metadata": {
        "id": "view-in-github",
        "colab_type": "text"
      },
      "source": [
        "<a href=\"https://colab.research.google.com/github/Sneha-Srivastava/Python_Course/blob/main/Practice_1.ipynb\" target=\"_parent\"><img src=\"https://colab.research.google.com/assets/colab-badge.svg\" alt=\"Open In Colab\"/></a>"
      ]
    },
    {
      "cell_type": "markdown",
      "metadata": {
        "id": "l6qMtFjQBu_o"
      },
      "source": [
        "1.Take a variable a, and a variable b. Assign some values to them, find their sum, product, difference, quotient, remainder and find a to the power of b(a^b)"
      ]
    },
    {
      "cell_type": "code",
      "metadata": {
        "id": "DLQE1jY_o8L_",
        "colab": {
          "base_uri": "https://localhost:8080/"
        },
        "outputId": "52f8e09e-6515-43c0-efaf-a31270700afd"
      },
      "source": [
        "a=2\n",
        "b=5\n",
        "print(a+b)\n",
        "print(a*b)\n",
        "print(a-b)\n",
        "print(a/b)\n",
        "print(a%b)\n",
        "print(a**b)\n"
      ],
      "execution_count": null,
      "outputs": [
        {
          "output_type": "stream",
          "text": [
            "7\n",
            "10\n",
            "-3\n",
            "0.4\n",
            "2\n",
            "32\n"
          ],
          "name": "stdout"
        }
      ]
    },
    {
      "cell_type": "markdown",
      "metadata": {
        "id": "zGEmAGRfB6sa"
      },
      "source": [
        "2. After execution, now take external input from user using the input() keyword. Take input for String, and a number. Do the following:\n",
        "Concat the two data types into a variable c.\n"
      ]
    },
    {
      "cell_type": "code",
      "metadata": {
        "colab": {
          "base_uri": "https://localhost:8080/"
        },
        "id": "L1sEWByZAq8Q",
        "outputId": "14527ab0-7f54-4383-c13e-ad9211ee1695"
      },
      "source": [
        "a = input(\"Enter the string:\")\n",
        "b = input(\"Enter the number:\")\n",
        "c = a + \" \" + b\n",
        "print(c)"
      ],
      "execution_count": null,
      "outputs": [
        {
          "output_type": "stream",
          "text": [
            "Enter the string:Assignment\n",
            "Enter the number:1\n",
            "Assignment 1\n"
          ],
          "name": "stdout"
        }
      ]
    },
    {
      "cell_type": "markdown",
      "metadata": {
        "id": "-KPo_9zEB_nS"
      },
      "source": [
        "2. Perform multiplication of the 2 data types, store it in `d`. Find data type of variable `d` and print it. "
      ]
    },
    {
      "cell_type": "code",
      "metadata": {
        "colab": {
          "base_uri": "https://localhost:8080/"
        },
        "id": "kYRMUsOlAx0j",
        "outputId": "c4a4ff81-2380-4e38-9889-d219a4e584e7"
      },
      "source": [
        "a =30\n",
        "b= 56\n",
        "d=a*b\n",
        "print(type(d))\n",
        "print(d)"
      ],
      "execution_count": null,
      "outputs": [
        {
          "output_type": "stream",
          "text": [
            "<class 'int'>\n",
            "1680\n"
          ],
          "name": "stdout"
        }
      ]
    },
    {
      "cell_type": "markdown",
      "metadata": {
        "id": "FVkpz_1jCE3c"
      },
      "source": [
        "3. Take input of 2 strings. Perform concatenation of those strings using the + operator and the , operator."
      ]
    },
    {
      "cell_type": "code",
      "metadata": {
        "colab": {
          "base_uri": "https://localhost:8080/"
        },
        "id": "GZhHcK6EBAJt",
        "outputId": "0d88806a-1a73-4d96-9839-1d817ae48c64"
      },
      "source": [
        "a=input(\"enter string\\n\")\n",
        "b=input(\"enter string\\n\")\n",
        "print(a+b)\n",
        "print(a,b)"
      ],
      "execution_count": null,
      "outputs": [
        {
          "output_type": "stream",
          "text": [
            "enter string\n",
            "Google\n",
            "enter string\n",
            "Collab\n",
            "GoogleCollab\n",
            "Google Collab\n"
          ],
          "name": "stdout"
        }
      ]
    },
    {
      "cell_type": "markdown",
      "metadata": {
        "id": "EZoeToUoCNlk"
      },
      "source": [
        "4. Take input of number and string. Concat the 2 variables and print the output."
      ]
    },
    {
      "cell_type": "code",
      "metadata": {
        "colab": {
          "base_uri": "https://localhost:8080/"
        },
        "id": "-ldCNtUtBMcE",
        "outputId": "e334222e-ef78-4a77-d09c-cb4779259694"
      },
      "source": [
        "a =input(\"Enter the string:\")\n",
        "b =input(\"Enter the integer:\")\n",
        "d =a + \" \" + str(b)\n",
        "print(d)"
      ],
      "execution_count": null,
      "outputs": [
        {
          "output_type": "stream",
          "text": [
            "Enter the string:Hello\n",
            "Enter the integer:23\n",
            "Hello 23\n"
          ],
          "name": "stdout"
        }
      ]
    },
    {
      "cell_type": "markdown",
      "metadata": {
        "id": "B9O3RhbNCRbD"
      },
      "source": [
        "For the code below, give an input such that you will get an error all the time\n"
      ]
    },
    {
      "cell_type": "code",
      "metadata": {
        "colab": {
          "base_uri": "https://localhost:8080/",
          "height": 249
        },
        "id": "4mudfvQTBXfk",
        "outputId": "47b7d68f-e921-4112-9226-56bc8946e7cf"
      },
      "source": [
        "x=float(input(\"Enter number for x: \"))\n",
        "y=float(input(\"Enter number for y: \"))\n",
        "if x==y: \n",
        "  print(\"x and y are equal\")\n",
        "  if y!= 0:\n",
        "    print(\"thus x/y is\",x/y)\n",
        "elif x<y: \n",
        "  print(\"x is smaller\")\n",
        "else:\n",
        "  print(\"y is smaller\")\n",
        "print(\"thanks\")"
      ],
      "execution_count": null,
      "outputs": [
        {
          "output_type": "stream",
          "text": [
            "Enter number for x: \"hello\"\n"
          ],
          "name": "stdout"
        },
        {
          "output_type": "error",
          "ename": "ValueError",
          "evalue": "ignored",
          "traceback": [
            "\u001b[0;31m---------------------------------------------------------------------------\u001b[0m",
            "\u001b[0;31mValueError\u001b[0m                                Traceback (most recent call last)",
            "\u001b[0;32m<ipython-input-26-cb67ba7cc684>\u001b[0m in \u001b[0;36m<module>\u001b[0;34m()\u001b[0m\n\u001b[0;32m----> 1\u001b[0;31m \u001b[0mx\u001b[0m\u001b[0;34m=\u001b[0m\u001b[0mfloat\u001b[0m\u001b[0;34m(\u001b[0m\u001b[0minput\u001b[0m\u001b[0;34m(\u001b[0m\u001b[0;34m\"Enter number for x: \"\u001b[0m\u001b[0;34m)\u001b[0m\u001b[0;34m)\u001b[0m\u001b[0;34m\u001b[0m\u001b[0;34m\u001b[0m\u001b[0m\n\u001b[0m\u001b[1;32m      2\u001b[0m \u001b[0my\u001b[0m\u001b[0;34m=\u001b[0m\u001b[0mfloat\u001b[0m\u001b[0;34m(\u001b[0m\u001b[0minput\u001b[0m\u001b[0;34m(\u001b[0m\u001b[0;34m\"Enter number for y: \"\u001b[0m\u001b[0;34m)\u001b[0m\u001b[0;34m)\u001b[0m\u001b[0;34m\u001b[0m\u001b[0;34m\u001b[0m\u001b[0m\n\u001b[1;32m      3\u001b[0m \u001b[0;32mif\u001b[0m \u001b[0mx\u001b[0m\u001b[0;34m==\u001b[0m\u001b[0my\u001b[0m\u001b[0;34m:\u001b[0m\u001b[0;34m\u001b[0m\u001b[0;34m\u001b[0m\u001b[0m\n\u001b[1;32m      4\u001b[0m   \u001b[0mprint\u001b[0m\u001b[0;34m(\u001b[0m\u001b[0;34m\"x and y are equal\"\u001b[0m\u001b[0;34m)\u001b[0m\u001b[0;34m\u001b[0m\u001b[0;34m\u001b[0m\u001b[0m\n\u001b[1;32m      5\u001b[0m   \u001b[0;32mif\u001b[0m \u001b[0my\u001b[0m\u001b[0;34m!=\u001b[0m \u001b[0;36m0\u001b[0m\u001b[0;34m:\u001b[0m\u001b[0;34m\u001b[0m\u001b[0;34m\u001b[0m\u001b[0m\n",
            "\u001b[0;31mValueError\u001b[0m: could not convert string to float: '\"hello\"'"
          ]
        }
      ]
    },
    {
      "cell_type": "markdown",
      "metadata": {
        "id": "JeqWD1xKCVf8"
      },
      "source": [
        "In the above code, now make the modification such that the input is of string data type, and instead of performing x/y modify that to finding the quotient of their ascii values. Eg: string hello has the ascii values 104 101 108 108 111. If x < y then concat the two strings. If x > y then take a number n and then print the concated string n times."
      ]
    },
    {
      "cell_type": "code",
      "metadata": {
        "colab": {
          "base_uri": "https://localhost:8080/"
        },
        "id": "d5gLwIg1CZll",
        "outputId": "e75812dd-9e35-4550-e1b2-7d39bd19f14b"
      },
      "source": [
        "#Enter code after the variables\n",
        "x= input(\"Enter string x:\")\n",
        "y= input('Enter string y:')\n",
        "l1 = [] \n",
        "l2 = []\n",
        "l3 = [] \n",
        "l4 = []\n",
        "result = \"\"\n",
        "final = \"\"\n",
        "l1=[c for c in x]  \n",
        "l2=[ord(c) for c in x]\n",
        "l3=[c1 for c1 in y]  \n",
        "l4=[ord(c1) for c1 in y]\n",
        "print(\"Ascii value of x:\",l2)\n",
        "print(\"Ascii value of y:\",l4)\n",
        "if x==y: \n",
        "  print(\"x and y are equal\")\n",
        "elif x<y: \n",
        "  print(x+\" \"+y)\n",
        "else:\n",
        "  n=int(input(\"any number: \"))\n",
        "  i=0\n",
        "  ASCII_string1 = \"\".join([chr(value1) for value1 in l2])\n",
        "  ASCII_string2 = \"\".join([chr(value2) for value2 in l4])\n",
        "  final = ASCII_string1+\" \"+ASCII_string2\n",
        "  print(final*n)"
      ],
      "execution_count": null,
      "outputs": [
        {
          "output_type": "stream",
          "text": [
            "Enter string x:qwerty\n",
            "Enter string y:as\n",
            "Ascii value of x: [113, 119, 101, 114, 116, 121]\n",
            "Ascii value of y: [97, 115]\n",
            "any number: 2\n",
            "qwerty asqwerty as \n"
          ],
          "name": "stdout"
        }
      ]
    },
    {
      "cell_type": "markdown",
      "metadata": {
        "id": "8lWJL5YtCcny"
      },
      "source": [
        "Complete the code below. In case it's helpful, here is the table of available arithmetic operations:\n",
        "\n",
        "Operator\tName\tDescription\n",
        "a + b\tAddition\tSum of a and b\n",
        "a - b\tSubtraction\tDifference of a and b\n",
        "a * b\tMultiplication\tProduct of a and b\n",
        "a / b\tTrue division\tQuotient of a and b\n",
        "a // b\tFloor division\tQuotient of a and b, removing fractional parts\n",
        "a % b\tModulus\tInteger remainder after division of a by b\n",
        "a ** b\tExponentiation\ta raised to the power of b\n",
        "-a\tNegation\tThe negative of a\n"
      ]
    },
    {
      "cell_type": "code",
      "metadata": {
        "colab": {
          "base_uri": "https://localhost:8080/"
        },
        "id": "YpwWFJn7Cgii",
        "outputId": "955fd72c-b859-4f48-bfc7-a3a0dfcd65d6"
      },
      "source": [
        "pi = 3.14159 # approximate\n",
        "diameter = 3\n",
        "\n",
        "# Create a variable called 'radius' equal to half the diameter\n",
        "radius = diameter/2\n",
        "\n",
        "# Create a variable called 'area', using the formula for the area of a circle: pi times the radius square\n",
        "area= pi * (radius**2)\n",
        "print(area)"
      ],
      "execution_count": null,
      "outputs": [
        {
          "output_type": "stream",
          "text": [
            "7.0685775\n"
          ],
          "name": "stdout"
        }
      ]
    },
    {
      "cell_type": "markdown",
      "metadata": {
        "id": "rF8YaJM9Cp7g"
      },
      "source": [
        "Add code to the following cell to swap variables a and b (so that a refers to the object previously referred to by b and vice versa)."
      ]
    },
    {
      "cell_type": "code",
      "metadata": {
        "colab": {
          "base_uri": "https://localhost:8080/"
        },
        "id": "4vActx9SCrUu",
        "outputId": "9aab0c99-f823-4d7b-abe3-89de67847832"
      },
      "source": [
        "a = 20\n",
        "b = 30\n",
        "c = a\n",
        "a = b\n",
        "b = c\n",
        "print(\"the numbers after swapping is a=\",a,\"b=\",b )"
      ],
      "execution_count": null,
      "outputs": [
        {
          "output_type": "stream",
          "text": [
            "the numbers after swapping is a= 30 b= 20\n"
          ],
          "name": "stdout"
        }
      ]
    },
    {
      "cell_type": "markdown",
      "metadata": {
        "id": "RSpd18qYCvBB"
      },
      "source": [
        "Add parentheses to the following expression so that it evaluates to 1."
      ]
    },
    {
      "cell_type": "code",
      "metadata": {
        "colab": {
          "base_uri": "https://localhost:8080/"
        },
        "id": "kU0A0iB6Cxt7",
        "outputId": "eda16c2f-c4db-4016-fad2-6c83d8d4fcf9"
      },
      "source": [
        "(5 - 3 )// 2"
      ],
      "execution_count": null,
      "outputs": [
        {
          "output_type": "execute_result",
          "data": {
            "text/plain": [
              "1"
            ]
          },
          "metadata": {
            "tags": []
          },
          "execution_count": 13
        }
      ]
    },
    {
      "cell_type": "markdown",
      "metadata": {
        "id": "gWuOKi0cC0aa"
      },
      "source": [
        "Add parentheses to the following expression so that it evaluates to 0."
      ]
    },
    {
      "cell_type": "code",
      "metadata": {
        "id": "Ivo4cCXCC3C3"
      },
      "source": [
        "8 - (3 * 2) - (1 + 1)"
      ],
      "execution_count": null,
      "outputs": []
    },
    {
      "cell_type": "code",
      "metadata": {
        "colab": {
          "base_uri": "https://localhost:8080/"
        },
        "id": "-vQXWGV9DbXc",
        "outputId": "bade9cb1-d1ea-4f7c-fadb-4652e3f6682f"
      },
      "source": [
        "(8 - 3) * (2 -(1 + 1))"
      ],
      "execution_count": null,
      "outputs": [
        {
          "output_type": "execute_result",
          "data": {
            "text/plain": [
              "0"
            ]
          },
          "metadata": {
            "tags": []
          },
          "execution_count": 15
        }
      ]
    },
    {
      "cell_type": "markdown",
      "metadata": {
        "id": "2rqUUXLFC8O7"
      },
      "source": [
        "A, B and C have agreed to pool their Halloween candy and split it evenly among themselves. For the sake of their friendship, any candies left over will be smashed. For example, if they collectively bring home 91 candies, they'll take 30 each and smash 1.\n",
        "\n",
        "Write an arithmetic expression below to calculate how many candies they must smash for a given haul."
      ]
    },
    {
      "cell_type": "code",
      "metadata": {
        "colab": {
          "base_uri": "https://localhost:8080/"
        },
        "id": "najx9WeTC82R",
        "outputId": "af1137f5-d790-4012-a4ab-e761ad337eb0"
      },
      "source": [
        "# Variables representing the number of candies collected by alice, bob, and carol\n",
        "a_candies = 121\n",
        "b_candies = 77\n",
        "c_candies = 109\n",
        "tot_candies = a_candies + b_candies + c_candies\n",
        "to_smash = tot_candies % 3\n",
        "print(\"the candies to be smashed is :\",to_smash)"
      ],
      "execution_count": null,
      "outputs": [
        {
          "output_type": "stream",
          "text": [
            "the candies to be smashed is : 1\n"
          ],
          "name": "stdout"
        }
      ]
    },
    {
      "cell_type": "markdown",
      "metadata": {
        "id": "eRlXj8ZmDCH-"
      },
      "source": [
        "Make your game\n",
        "Like the simple game earlier, if the character moves to the right, the game doesn't end. Anything else, and the game ends. Code your own version of this game."
      ]
    },
    {
      "cell_type": "code",
      "metadata": {
        "colab": {
          "base_uri": "https://localhost:8080/"
        },
        "id": "WWrAGq-MDCvv",
        "outputId": "e91f4415-475a-4f04-cc2c-d4e8a04be4aa"
      },
      "source": [
        "n=input(\"********\\n    😃    \\n********\\n Go left or right\\n \")\n",
        "a=0\n",
        "if(n==\"right\" or n==\"Right\"):\n",
        "  print(\"Game continues\")\n",
        "else :\n",
        "  print(\"Game ends\")\n",
        "\n",
        " \n"
      ],
      "execution_count": null,
      "outputs": [
        {
          "output_type": "stream",
          "text": [
            "********\n",
            "    😃    \n",
            "********\n",
            " Go left or right\n",
            " Right\n",
            "Game continues\n"
          ],
          "name": "stdout"
        }
      ]
    }
  ]
}