{
  "nbformat": 4,
  "nbformat_minor": 0,
  "metadata": {
    "colab": {
      "name": "Practice 2.ipynb",
      "provenance": [],
      "collapsed_sections": [],
      "include_colab_link": true
    },
    "kernelspec": {
      "name": "python3",
      "display_name": "Python 3"
    },
    "language_info": {
      "name": "python"
    }
  },
  "cells": [
    {
      "cell_type": "markdown",
      "metadata": {
        "id": "view-in-github",
        "colab_type": "text"
      },
      "source": [
        "<a href=\"https://colab.research.google.com/github/Sneha-Srivastava/Python_Course/blob/main/Practice_2.ipynb\" target=\"_parent\"><img src=\"https://colab.research.google.com/assets/colab-badge.svg\" alt=\"Open In Colab\"/></a>"
      ]
    },
    {
      "cell_type": "markdown",
      "metadata": {
        "id": "foPjwFSOqNOL"
      },
      "source": [
        "### Practice assignment 2 \n",
        "---\n",
        "For each of the five strings below, predict what `len()` would return when passed that string. Use the variable `length` to record your answer, then run the cell to check whether you were right. "
      ]
    },
    {
      "cell_type": "code",
      "metadata": {
        "id": "545NnkyppnwQ",
        "colab": {
          "base_uri": "https://localhost:8080/"
        },
        "outputId": "10d085cc-3dd0-4d7c-c6d3-cbcf74146c7b"
      },
      "source": [
        "a = \"\"\n",
        "length = 0\n",
        "if len(a)==length:\n",
        "  print(\"correct answer \")"
      ],
      "execution_count": null,
      "outputs": [
        {
          "output_type": "stream",
          "text": [
            "correct answer \n"
          ],
          "name": "stdout"
        }
      ]
    },
    {
      "cell_type": "code",
      "metadata": {
        "id": "IYCabKHnrHKk",
        "colab": {
          "base_uri": "https://localhost:8080/"
        },
        "outputId": "8ce6ae1f-9762-4e50-aced-df1b84b59b71"
      },
      "source": [
        "c = 'it\\'s ok'\n",
        "length = 7\n",
        "if len(c)==length:\n",
        "  print(\"Correct answer\")"
      ],
      "execution_count": null,
      "outputs": [
        {
          "output_type": "stream",
          "text": [
            "Correct answer\n"
          ],
          "name": "stdout"
        }
      ]
    },
    {
      "cell_type": "code",
      "metadata": {
        "id": "Ei5asuAirRvG",
        "colab": {
          "base_uri": "https://localhost:8080/"
        },
        "outputId": "3ab3d7d0-6170-4c96-bb92-f5e3852aa75c"
      },
      "source": [
        "d = \"\"\"hey\"\"\"\n",
        "length = 3\n",
        "if len(d)==length:\n",
        "  print(\"correct answer\")"
      ],
      "execution_count": null,
      "outputs": [
        {
          "output_type": "stream",
          "text": [
            "correct answer\n"
          ],
          "name": "stdout"
        }
      ]
    },
    {
      "cell_type": "code",
      "metadata": {
        "id": "49edi-GArc_q",
        "colab": {
          "base_uri": "https://localhost:8080/"
        },
        "outputId": "b184cbd6-54b4-41d9-b945-47ebde18829a"
      },
      "source": [
        "e = '\\n'\n",
        "length = 1\n",
        "if len(e)==length:\n",
        "  print(\"Correct answer\")"
      ],
      "execution_count": null,
      "outputs": [
        {
          "output_type": "stream",
          "text": [
            "Correct answer\n"
          ],
          "name": "stdout"
        }
      ]
    },
    {
      "cell_type": "markdown",
      "metadata": {
        "id": "HkUt9_o4xTHu"
      },
      "source": [
        "# Simple String Problems\n",
        "1. Take a string `s`, change the first character of it to `y` and then print it\n",
        "\n"
      ]
    },
    {
      "cell_type": "code",
      "metadata": {
        "id": "IkyHvijOxjvY",
        "colab": {
          "base_uri": "https://localhost:8080/"
        },
        "outputId": "d2679a3b-eea4-415b-92ff-b8c0dfd0e22e"
      },
      "source": [
        "s = 'abcdef'\n",
        "modified = s.replace(s[0],'y')\n",
        "print(modified)"
      ],
      "execution_count": null,
      "outputs": [
        {
          "output_type": "stream",
          "text": [
            "ybcdef\n"
          ],
          "name": "stdout"
        }
      ]
    },
    {
      "cell_type": "markdown",
      "metadata": {
        "id": "CJLFPsIfyKnx"
      },
      "source": [
        "2. Take the string `s`. Asnwer the set of values to go with it: \n",
        "\n",
        "\n",
        "> Print all values\n",
        "\n"
      ]
    },
    {
      "cell_type": "code",
      "metadata": {
        "id": "2kEp-_e-yKWn",
        "colab": {
          "base_uri": "https://localhost:8080/"
        },
        "outputId": "d4c4fff1-c6ca-4fed-9259-43701be9a1ae"
      },
      "source": [
        "s = 'abcdef'\n",
        "#find string corresponding to s[1:4]\n",
        "print(s[1:4])\n",
        "#find string corresponding to s[2:7:2]\n",
        "print(s[2:7:2])\n",
        "#print the full string\n",
        "print(s)\n",
        "#Invert the string\n",
        "print(s[::-1])\n",
        "#concat the inverted and normal string, and print it\n",
        "print(s +\" \"+ s[::-1])\n"
      ],
      "execution_count": null,
      "outputs": [
        {
          "output_type": "stream",
          "text": [
            "bcd\n",
            "ce\n",
            "abcdef\n",
            "fedcba\n",
            "abcdef fedcba\n"
          ],
          "name": "stdout"
        }
      ]
    },
    {
      "cell_type": "markdown",
      "metadata": {
        "id": "d2gcH0WIzAco"
      },
      "source": [
        "3. Modify the below code without using the `len()` function to get the same result"
      ]
    },
    {
      "cell_type": "code",
      "metadata": {
        "id": "2ytRTaE7zHtJ",
        "colab": {
          "base_uri": "https://localhost:8080/"
        },
        "outputId": "4ffc41d4-41d4-47f8-8512-47fcb75a1f96"
      },
      "source": [
        "s = 'heijklmo'\n",
        "for i in range(8): \n",
        "  if s[i] == 'h' or s[i] == 'm':\n",
        "    print(\"Letter h or m is present\")\n",
        "    break"
      ],
      "execution_count": null,
      "outputs": [
        {
          "output_type": "stream",
          "text": [
            "Letter h or m is present\n"
          ],
          "name": "stdout"
        }
      ]
    },
    {
      "cell_type": "markdown",
      "metadata": {
        "id": "b_LQVJ8Pz6Fs"
      },
      "source": [
        "4. Modify the below code by switching the `while` loop with a `for` loop"
      ]
    },
    {
      "cell_type": "code",
      "metadata": {
        "id": "ix-gZ_rDz5pM",
        "colab": {
          "base_uri": "https://localhost:8080/"
        },
        "outputId": "249e4bec-8a80-4dd0-a217-6f6bfba600c8"
      },
      "source": [
        "a = \"aefhilmnorsxAEFHILMNORSX\"\n",
        "word = input(\"I will cheer for you, enter a word\")\n",
        "times = int(input(\"Enthusiasm leve(1-10\"))\n",
        "i = 0\n",
        "for i in range (len(word)):\n",
        "  char = word[i]\n",
        "  if char in a:\n",
        "    print(\"Give me an \"+char+ \" ! \"+char)\n",
        "  else: \n",
        "    print(\"give me a \"+char+ \" ! \"+char)\n",
        "  i+=1\n",
        "print(\"What does that spell? \")\n",
        "for i in range(times):\n",
        "  print(word+ \" !!!\")"
      ],
      "execution_count": null,
      "outputs": [
        {
          "output_type": "stream",
          "text": [
            "I will cheer for you, enter a wordhello\n",
            "Enthusiasm leve(1-104\n",
            "Give me an h ! h\n",
            "Give me an e ! e\n",
            "Give me an l ! l\n",
            "Give me an l ! l\n",
            "Give me an o ! o\n",
            "What does that spell? \n",
            "hello !!!\n",
            "hello !!!\n",
            "hello !!!\n",
            "hello !!!\n"
          ],
          "name": "stdout"
        }
      ]
    },
    {
      "cell_type": "markdown",
      "metadata": {
        "id": "k4cOXjHj0o_B"
      },
      "source": [
        "# Guess check Method for finding cube root\n",
        "\n",
        "Guess check method is coded by starting with a guess `g` and the given cube numer `c` whose cube root we are trying to estimate. You can either give `g` a start value or use `for` loops. This is the logic: \n",
        "\n",
        "`for g in range(abs(cube)+1):`\n",
        "\n",
        "\n",
        "> `if g**3 >=cube:` -> then break \n",
        "\n",
        "> if `g**3 !=cube` then it's not a perfect cube. If `cube < 0` then negate `g` ,print the cube root of `cube`\n",
        "\n",
        "\n",
        "\n"
      ]
    },
    {
      "cell_type": "code",
      "metadata": {
        "id": "VXcvAZd82PJs",
        "colab": {
          "base_uri": "https://localhost:8080/"
        },
        "outputId": "8eff3317-6cca-4349-ccd5-0d16b46d2b1e"
      },
      "source": [
        "cube = 27\n",
        "for g in range(abs(cube)+1):\n",
        "  #write your code here\n",
        "  if g**3 >=cube :\n",
        "    break\n",
        "  elif g**3 !=cube :\n",
        "    print(\"Not a perfect cube\")\n",
        "  elif cube < 0 :\n",
        "    g = -1\n",
        "    print(cube)\n",
        "  else :\n",
        "    break"
      ],
      "execution_count": null,
      "outputs": [
        {
          "output_type": "stream",
          "text": [
            "Not a perfect cube\n",
            "Not a perfect cube\n",
            "Not a perfect cube\n"
          ],
          "name": "stdout"
        }
      ]
    },
    {
      "cell_type": "markdown",
      "metadata": {
        "id": "5JZg_AXE2iUs"
      },
      "source": [
        "# Approximate Solution \n",
        "\n",
        "Find the cube root of a number `cube` by approximating to the value, starting with a guess value `g` of your choice. We define approximate method by defining a neighborhood of acceptance `epsilon` and the learning rate `increment`. We start with a guess `g` and for each iteration, we check if `|g**3 - cube| >= epsilon`and then update the guess variable as `g = g+increment`. If at the end of all iterations, `|g**3 - cube| > epsilon` then print that it is not a perfect cube, `else` print that it is a ferfect cube. \n",
        " \n",
        "\n",
        "1. Initialise variable `cube = 27` and `epsilon = 0.1` for the boundry\n",
        "2. Initialise `g = 0` and `increment = 0.01`.\n",
        "3. Create counter `num_g` to keep track of number of iterations. \n",
        "4. Give your own values for `cube`,`g`,`increment` and `epsilon` to test the boundry and get comfortable with overshooting and undershooting your optimal answer. "
      ]
    },
    {
      "cell_type": "code",
      "metadata": {
        "id": "SMl9xGiL2_n2",
        "colab": {
          "base_uri": "https://localhost:8080/"
        },
        "outputId": "28a7b6dd-c848-426f-9b2f-60ff5a976471"
      },
      "source": [
        "#write your code here \n",
        "cube = 27\n",
        "epsilon = 0.1\n",
        "g = 0\n",
        "increment = 0.01\n",
        "num_g = 0\n",
        "while abs(g**3 - cube) >= epsilon:\n",
        "  g+=increment \n",
        "  if abs(g**3 - cube) >= epsilon:\n",
        "    print(\"Not a perfect cube\")\n",
        "  else:\n",
        "    print(\"A perfect cube\") \n",
        "\n",
        "\n"
      ],
      "execution_count": null,
      "outputs": [
        {
          "output_type": "stream",
          "text": [
            "Not a perfect cube\n",
            "Not a perfect cube\n",
            "Not a perfect cube\n",
            "Not a perfect cube\n",
            "Not a perfect cube\n",
            "Not a perfect cube\n",
            "Not a perfect cube\n",
            "Not a perfect cube\n",
            "Not a perfect cube\n",
            "Not a perfect cube\n",
            "Not a perfect cube\n",
            "Not a perfect cube\n",
            "Not a perfect cube\n",
            "Not a perfect cube\n",
            "Not a perfect cube\n",
            "Not a perfect cube\n",
            "Not a perfect cube\n",
            "Not a perfect cube\n",
            "Not a perfect cube\n",
            "Not a perfect cube\n",
            "Not a perfect cube\n",
            "Not a perfect cube\n",
            "Not a perfect cube\n",
            "Not a perfect cube\n",
            "Not a perfect cube\n",
            "Not a perfect cube\n",
            "Not a perfect cube\n",
            "Not a perfect cube\n",
            "Not a perfect cube\n",
            "Not a perfect cube\n",
            "Not a perfect cube\n",
            "Not a perfect cube\n",
            "Not a perfect cube\n",
            "Not a perfect cube\n",
            "Not a perfect cube\n",
            "Not a perfect cube\n",
            "Not a perfect cube\n",
            "Not a perfect cube\n",
            "Not a perfect cube\n",
            "Not a perfect cube\n",
            "Not a perfect cube\n",
            "Not a perfect cube\n",
            "Not a perfect cube\n",
            "Not a perfect cube\n",
            "Not a perfect cube\n",
            "Not a perfect cube\n",
            "Not a perfect cube\n",
            "Not a perfect cube\n",
            "Not a perfect cube\n",
            "Not a perfect cube\n",
            "Not a perfect cube\n",
            "Not a perfect cube\n",
            "Not a perfect cube\n",
            "Not a perfect cube\n",
            "Not a perfect cube\n",
            "Not a perfect cube\n",
            "Not a perfect cube\n",
            "Not a perfect cube\n",
            "Not a perfect cube\n",
            "Not a perfect cube\n",
            "Not a perfect cube\n",
            "Not a perfect cube\n",
            "Not a perfect cube\n",
            "Not a perfect cube\n",
            "Not a perfect cube\n",
            "Not a perfect cube\n",
            "Not a perfect cube\n",
            "Not a perfect cube\n",
            "Not a perfect cube\n",
            "Not a perfect cube\n",
            "Not a perfect cube\n",
            "Not a perfect cube\n",
            "Not a perfect cube\n",
            "Not a perfect cube\n",
            "Not a perfect cube\n",
            "Not a perfect cube\n",
            "Not a perfect cube\n",
            "Not a perfect cube\n",
            "Not a perfect cube\n",
            "Not a perfect cube\n",
            "Not a perfect cube\n",
            "Not a perfect cube\n",
            "Not a perfect cube\n",
            "Not a perfect cube\n",
            "Not a perfect cube\n",
            "Not a perfect cube\n",
            "Not a perfect cube\n",
            "Not a perfect cube\n",
            "Not a perfect cube\n",
            "Not a perfect cube\n",
            "Not a perfect cube\n",
            "Not a perfect cube\n",
            "Not a perfect cube\n",
            "Not a perfect cube\n",
            "Not a perfect cube\n",
            "Not a perfect cube\n",
            "Not a perfect cube\n",
            "Not a perfect cube\n",
            "Not a perfect cube\n",
            "Not a perfect cube\n",
            "Not a perfect cube\n",
            "Not a perfect cube\n",
            "Not a perfect cube\n",
            "Not a perfect cube\n",
            "Not a perfect cube\n",
            "Not a perfect cube\n",
            "Not a perfect cube\n",
            "Not a perfect cube\n",
            "Not a perfect cube\n",
            "Not a perfect cube\n",
            "Not a perfect cube\n",
            "Not a perfect cube\n",
            "Not a perfect cube\n",
            "Not a perfect cube\n",
            "Not a perfect cube\n",
            "Not a perfect cube\n",
            "Not a perfect cube\n",
            "Not a perfect cube\n",
            "Not a perfect cube\n",
            "Not a perfect cube\n",
            "Not a perfect cube\n",
            "Not a perfect cube\n",
            "Not a perfect cube\n",
            "Not a perfect cube\n",
            "Not a perfect cube\n",
            "Not a perfect cube\n",
            "Not a perfect cube\n",
            "Not a perfect cube\n",
            "Not a perfect cube\n",
            "Not a perfect cube\n",
            "Not a perfect cube\n",
            "Not a perfect cube\n",
            "Not a perfect cube\n",
            "Not a perfect cube\n",
            "Not a perfect cube\n",
            "Not a perfect cube\n",
            "Not a perfect cube\n",
            "Not a perfect cube\n",
            "Not a perfect cube\n",
            "Not a perfect cube\n",
            "Not a perfect cube\n",
            "Not a perfect cube\n",
            "Not a perfect cube\n",
            "Not a perfect cube\n",
            "Not a perfect cube\n",
            "Not a perfect cube\n",
            "Not a perfect cube\n",
            "Not a perfect cube\n",
            "Not a perfect cube\n",
            "Not a perfect cube\n",
            "Not a perfect cube\n",
            "Not a perfect cube\n",
            "Not a perfect cube\n",
            "Not a perfect cube\n",
            "Not a perfect cube\n",
            "Not a perfect cube\n",
            "Not a perfect cube\n",
            "Not a perfect cube\n",
            "Not a perfect cube\n",
            "Not a perfect cube\n",
            "Not a perfect cube\n",
            "Not a perfect cube\n",
            "Not a perfect cube\n",
            "Not a perfect cube\n",
            "Not a perfect cube\n",
            "Not a perfect cube\n",
            "Not a perfect cube\n",
            "Not a perfect cube\n",
            "Not a perfect cube\n",
            "Not a perfect cube\n",
            "Not a perfect cube\n",
            "Not a perfect cube\n",
            "Not a perfect cube\n",
            "Not a perfect cube\n",
            "Not a perfect cube\n",
            "Not a perfect cube\n",
            "Not a perfect cube\n",
            "Not a perfect cube\n",
            "Not a perfect cube\n",
            "Not a perfect cube\n",
            "Not a perfect cube\n",
            "Not a perfect cube\n",
            "Not a perfect cube\n",
            "Not a perfect cube\n",
            "Not a perfect cube\n",
            "Not a perfect cube\n",
            "Not a perfect cube\n",
            "Not a perfect cube\n",
            "Not a perfect cube\n",
            "Not a perfect cube\n",
            "Not a perfect cube\n",
            "Not a perfect cube\n",
            "Not a perfect cube\n",
            "Not a perfect cube\n",
            "Not a perfect cube\n",
            "Not a perfect cube\n",
            "Not a perfect cube\n",
            "Not a perfect cube\n",
            "Not a perfect cube\n",
            "Not a perfect cube\n",
            "Not a perfect cube\n",
            "Not a perfect cube\n",
            "Not a perfect cube\n",
            "Not a perfect cube\n",
            "Not a perfect cube\n",
            "Not a perfect cube\n",
            "Not a perfect cube\n",
            "Not a perfect cube\n",
            "Not a perfect cube\n",
            "Not a perfect cube\n",
            "Not a perfect cube\n",
            "Not a perfect cube\n",
            "Not a perfect cube\n",
            "Not a perfect cube\n",
            "Not a perfect cube\n",
            "Not a perfect cube\n",
            "Not a perfect cube\n",
            "Not a perfect cube\n",
            "Not a perfect cube\n",
            "Not a perfect cube\n",
            "Not a perfect cube\n",
            "Not a perfect cube\n",
            "Not a perfect cube\n",
            "Not a perfect cube\n",
            "Not a perfect cube\n",
            "Not a perfect cube\n",
            "Not a perfect cube\n",
            "Not a perfect cube\n",
            "Not a perfect cube\n",
            "Not a perfect cube\n",
            "Not a perfect cube\n",
            "Not a perfect cube\n",
            "Not a perfect cube\n",
            "Not a perfect cube\n",
            "Not a perfect cube\n",
            "Not a perfect cube\n",
            "Not a perfect cube\n",
            "Not a perfect cube\n",
            "Not a perfect cube\n",
            "Not a perfect cube\n",
            "Not a perfect cube\n",
            "Not a perfect cube\n",
            "Not a perfect cube\n",
            "Not a perfect cube\n",
            "Not a perfect cube\n",
            "Not a perfect cube\n",
            "Not a perfect cube\n",
            "Not a perfect cube\n",
            "Not a perfect cube\n",
            "Not a perfect cube\n",
            "Not a perfect cube\n",
            "Not a perfect cube\n",
            "Not a perfect cube\n",
            "Not a perfect cube\n",
            "Not a perfect cube\n",
            "Not a perfect cube\n",
            "Not a perfect cube\n",
            "Not a perfect cube\n",
            "Not a perfect cube\n",
            "Not a perfect cube\n",
            "Not a perfect cube\n",
            "Not a perfect cube\n",
            "Not a perfect cube\n",
            "Not a perfect cube\n",
            "Not a perfect cube\n",
            "Not a perfect cube\n",
            "Not a perfect cube\n",
            "Not a perfect cube\n",
            "Not a perfect cube\n",
            "Not a perfect cube\n",
            "Not a perfect cube\n",
            "Not a perfect cube\n",
            "Not a perfect cube\n",
            "Not a perfect cube\n",
            "Not a perfect cube\n",
            "Not a perfect cube\n",
            "Not a perfect cube\n",
            "Not a perfect cube\n",
            "Not a perfect cube\n",
            "Not a perfect cube\n",
            "Not a perfect cube\n",
            "Not a perfect cube\n",
            "Not a perfect cube\n",
            "Not a perfect cube\n",
            "Not a perfect cube\n",
            "Not a perfect cube\n",
            "Not a perfect cube\n",
            "Not a perfect cube\n",
            "Not a perfect cube\n",
            "Not a perfect cube\n",
            "Not a perfect cube\n",
            "Not a perfect cube\n",
            "Not a perfect cube\n",
            "Not a perfect cube\n",
            "Not a perfect cube\n",
            "Not a perfect cube\n",
            "Not a perfect cube\n",
            "Not a perfect cube\n",
            "Not a perfect cube\n",
            "A perfect cube\n"
          ],
          "name": "stdout"
        }
      ]
    },
    {
      "cell_type": "markdown",
      "metadata": {
        "id": "afG47JNS4iAw"
      },
      "source": [
        "# Bisection method \n",
        "In this method, the gap between `g` and `cube` keeps on diving in 2 until the best solution is reached. Try different values of `low`,`cube` and `epsilon` to get a better understanding of how expensive computation can be."
      ]
    },
    {
      "cell_type": "code",
      "metadata": {
        "id": "CVuQmTb86SI0",
        "colab": {
          "base_uri": "https://localhost:8080/"
        },
        "outputId": "e9cc9353-64da-42b5-8bc1-e5499dbe2240"
      },
      "source": [
        "cube = 27\n",
        "epsilon = 0.01\n",
        "num_g = 0\n",
        "low = 0\n",
        "high = cube\n",
        "g = (high+low)/2\n",
        "while abs(g**3 - cube) >= epsilon:\n",
        "  if g**3 < cube:\n",
        "    low = g\n",
        "  else:\n",
        "    high = g\n",
        "  g = (high+low)/2\n",
        "  num_g+=1\n",
        "print('num_guess is',num_g)\n",
        "print(g,'is close to cube root of',cube)"
      ],
      "execution_count": null,
      "outputs": [
        {
          "output_type": "stream",
          "text": [
            "num_guess is 14\n",
            "3.000091552734375 is close to cube root of 27\n"
          ],
          "name": "stdout"
        }
      ]
    },
    {
      "cell_type": "markdown",
      "metadata": {
        "id": "5fYbZ4Ca6TIz"
      },
      "source": [
        "Now for the above code, make these modification: \n",
        "1. modify it to work with negetive cubes\n",
        "2. modify it to work with cubes between 0 and 1."
      ]
    },
    {
      "cell_type": "code",
      "metadata": {
        "id": "2ypwntHt6jRs",
        "colab": {
          "base_uri": "https://localhost:8080/"
        },
        "outputId": "9c96307a-489f-4580-faac-8605ad5d7231"
      },
      "source": [
        "#enter your code here\n",
        "cube = -20\n",
        "epsilon = 0.01\n",
        "num_g = 0\n",
        "low = min(cube,1.0)\n",
        "high = max(1.0,cube)\n",
        "g = (high+low)/2\n",
        "while abs(g**3 - cube) >= epsilon:\n",
        "  if g**3 < cube:\n",
        "    low = g\n",
        "  else:\n",
        "    high = g\n",
        "  g = (high+low)/2\n",
        "  num_g+=1\n",
        "print('num_guess is',num_g)\n",
        "print(g,'is close to cube root of',cube)"
      ],
      "execution_count": null,
      "outputs": [
        {
          "output_type": "stream",
          "text": [
            "num_guess is 12\n",
            "-2.7144775390625 is close to cube root of -20\n"
          ],
          "name": "stdout"
        }
      ]
    },
    {
      "cell_type": "code",
      "metadata": {
        "id": "DWabwsEq1KBB"
      },
      "source": [
        "#enter your code here\n",
        "cube = 0.5\n",
        "epsilon = 0.01\n",
        "num_g = 0\n",
        "low = 0\n",
        "high = cube\n",
        "g = (high+low)/2\n",
        "while abs(g**3 - cube) >= epsilon:\n",
        "  if g**3 < cube:\n",
        "    low = g\n",
        "  else:\n",
        "    high = g\n",
        "  g = (high+low)/2\n",
        "  num_g+=1\n",
        "print('num_guess is',num_g)\n",
        "print(g,'is close to cube root of',cube)"
      ],
      "execution_count": null,
      "outputs": []
    },
    {
      "cell_type": "markdown",
      "metadata": {
        "id": "xGTjF4NLr9_2"
      },
      "source": [
        "# Try for yourself \n",
        " Given a string, it should return whether or not that string represents a valid pin code. For our purposes, a valid pin code is any string consisting of exactly 6 digits.\n",
        "\n",
        "HINT: `str` has a method that will be useful here. Use `help(str)` to review a list of string methods. There is a method called `isdigit` that checks for the condition of having all digits only."
      ]
    },
    {
      "cell_type": "code",
      "metadata": {
        "id": "AMuHSECvsJQn",
        "colab": {
          "base_uri": "https://localhost:8080/"
        },
        "outputId": "4427c832-7efb-4b83-8911-05ee03c3e2d0"
      },
      "source": [
        "#do not change this code. Write your code only after pass\n",
        "def is_valid_pin(pin_code):\n",
        "    \"\"\"Returns whether the input string is a valid (6 digit) pin code\n",
        "    \"\"\"\n",
        "    pass\n",
        "    if pin_code.isdigit()==True and len(pin_code)==6:\n",
        "      return True \n",
        "    else :\n",
        "      return False\n",
        "#do not change the code below\n",
        "z = is_valid_pin('560001')\n",
        "k= is_valid_pin('5600af')\n",
        "if(z==True and k == False):\n",
        "  print(\"Your answer is correct\")\n",
        "else:\n",
        "  print(\"Incorrect logic. Check your return statement. You may have missed checking for digits. use help(srt)\")\n"
      ],
      "execution_count": null,
      "outputs": [
        {
          "output_type": "stream",
          "text": [
            "Your answer is correct\n"
          ],
          "name": "stdout"
        }
      ]
    },
    {
      "cell_type": "code",
      "metadata": {
        "id": "xOJarPAI7Bxm"
      },
      "source": [
        "# you can try combinations of the above code, or any code for your practice. "
      ],
      "execution_count": null,
      "outputs": []
    }
  ]
}