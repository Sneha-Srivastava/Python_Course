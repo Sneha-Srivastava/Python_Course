{
  "nbformat": 4,
  "nbformat_minor": 0,
  "metadata": {
    "colab": {
      "name": "Practice 4.ipynb",
      "provenance": [],
      "collapsed_sections": [],
      "authorship_tag": "ABX9TyM66FhdMr3/Deu7gemRvu9h",
      "include_colab_link": true
    },
    "kernelspec": {
      "name": "python3",
      "display_name": "Python 3"
    },
    "language_info": {
      "name": "python"
    }
  },
  "cells": [
    {
      "cell_type": "markdown",
      "metadata": {
        "id": "view-in-github",
        "colab_type": "text"
      },
      "source": [
        "<a href=\"https://colab.research.google.com/github/Sneha-Srivastava/Python_Course/blob/main/Practice_4.ipynb\" target=\"_parent\"><img src=\"https://colab.research.google.com/assets/colab-badge.svg\" alt=\"Open In Colab\"/></a>"
      ]
    },
    {
      "cell_type": "code",
      "metadata": {
        "colab": {
          "base_uri": "https://localhost:8080/"
        },
        "id": "7rfcshzpkMep",
        "outputId": "cbf59c6c-c6f4-46f5-f637-ed939138f092"
      },
      "source": [
        "from google.colab import drive \n",
        "drive.mount('/content/drive')"
      ],
      "execution_count": 1,
      "outputs": [
        {
          "output_type": "stream",
          "text": [
            "Mounted at /content/drive\n"
          ],
          "name": "stdout"
        }
      ]
    },
    {
      "cell_type": "code",
      "metadata": {
        "colab": {
          "base_uri": "https://localhost:8080/",
          "height": 504
        },
        "id": "eBOt6WZgkoI_",
        "outputId": "f8e3de6c-52e9-4969-e7bb-55d97267d7b2"
      },
      "source": [
        "import pandas as pd\n",
        "import numpy as np\n",
        "df = pd.read_csv('/content/sample_data/data.csv')\n",
        "df"
      ],
      "execution_count": 8,
      "outputs": [
        {
          "output_type": "execute_result",
          "data": {
            "text/html": [
              "<div>\n",
              "<style scoped>\n",
              "    .dataframe tbody tr th:only-of-type {\n",
              "        vertical-align: middle;\n",
              "    }\n",
              "\n",
              "    .dataframe tbody tr th {\n",
              "        vertical-align: top;\n",
              "    }\n",
              "\n",
              "    .dataframe thead th {\n",
              "        text-align: right;\n",
              "    }\n",
              "</style>\n",
              "<table border=\"1\" class=\"dataframe\">\n",
              "  <thead>\n",
              "    <tr style=\"text-align: right;\">\n",
              "      <th></th>\n",
              "      <th>year</th>\n",
              "      <th>industry_code_ANZSIC</th>\n",
              "      <th>industry_name_ANZSIC</th>\n",
              "      <th>rme_size_grp</th>\n",
              "      <th>variable</th>\n",
              "      <th>value</th>\n",
              "      <th>unit</th>\n",
              "    </tr>\n",
              "  </thead>\n",
              "  <tbody>\n",
              "    <tr>\n",
              "      <th>0</th>\n",
              "      <td>2011</td>\n",
              "      <td>A</td>\n",
              "      <td>Agriculture, Forestry and Fishing</td>\n",
              "      <td>a_0</td>\n",
              "      <td>Activity unit</td>\n",
              "      <td>46134</td>\n",
              "      <td>COUNT</td>\n",
              "    </tr>\n",
              "    <tr>\n",
              "      <th>1</th>\n",
              "      <td>2011</td>\n",
              "      <td>A</td>\n",
              "      <td>Agriculture, Forestry and Fishing</td>\n",
              "      <td>a_0</td>\n",
              "      <td>Rolling mean employees</td>\n",
              "      <td>0</td>\n",
              "      <td>COUNT</td>\n",
              "    </tr>\n",
              "    <tr>\n",
              "      <th>2</th>\n",
              "      <td>2011</td>\n",
              "      <td>A</td>\n",
              "      <td>Agriculture, Forestry and Fishing</td>\n",
              "      <td>a_0</td>\n",
              "      <td>Salaries and wages paid</td>\n",
              "      <td>279</td>\n",
              "      <td>DOLLARS(millions)</td>\n",
              "    </tr>\n",
              "    <tr>\n",
              "      <th>3</th>\n",
              "      <td>2011</td>\n",
              "      <td>A</td>\n",
              "      <td>Agriculture, Forestry and Fishing</td>\n",
              "      <td>a_0</td>\n",
              "      <td>Sales, government funding, grants and subsidies</td>\n",
              "      <td>8187</td>\n",
              "      <td>DOLLARS(millions)</td>\n",
              "    </tr>\n",
              "    <tr>\n",
              "      <th>4</th>\n",
              "      <td>2011</td>\n",
              "      <td>A</td>\n",
              "      <td>Agriculture, Forestry and Fishing</td>\n",
              "      <td>a_0</td>\n",
              "      <td>Total income</td>\n",
              "      <td>8866</td>\n",
              "      <td>DOLLARS(millions)</td>\n",
              "    </tr>\n",
              "    <tr>\n",
              "      <th>...</th>\n",
              "      <td>...</td>\n",
              "      <td>...</td>\n",
              "      <td>...</td>\n",
              "      <td>...</td>\n",
              "      <td>...</td>\n",
              "      <td>...</td>\n",
              "      <td>...</td>\n",
              "    </tr>\n",
              "    <tr>\n",
              "      <th>15475</th>\n",
              "      <td>2020</td>\n",
              "      <td>all</td>\n",
              "      <td>All Industries</td>\n",
              "      <td>j_Grand_Total</td>\n",
              "      <td>Total income</td>\n",
              "      <td>733258</td>\n",
              "      <td>DOLLARS(millions)</td>\n",
              "    </tr>\n",
              "    <tr>\n",
              "      <th>15476</th>\n",
              "      <td>2020</td>\n",
              "      <td>all</td>\n",
              "      <td>All Industries</td>\n",
              "      <td>j_Grand_Total</td>\n",
              "      <td>Total expenditure</td>\n",
              "      <td>654872</td>\n",
              "      <td>DOLLARS(millions)</td>\n",
              "    </tr>\n",
              "    <tr>\n",
              "      <th>15477</th>\n",
              "      <td>2020</td>\n",
              "      <td>all</td>\n",
              "      <td>All Industries</td>\n",
              "      <td>j_Grand_Total</td>\n",
              "      <td>Operating profit before tax</td>\n",
              "      <td>77389</td>\n",
              "      <td>DOLLARS(millions)</td>\n",
              "    </tr>\n",
              "    <tr>\n",
              "      <th>15478</th>\n",
              "      <td>2020</td>\n",
              "      <td>all</td>\n",
              "      <td>All Industries</td>\n",
              "      <td>j_Grand_Total</td>\n",
              "      <td>Total assets</td>\n",
              "      <td>2396143</td>\n",
              "      <td>DOLLARS(millions)</td>\n",
              "    </tr>\n",
              "    <tr>\n",
              "      <th>15479</th>\n",
              "      <td>2020</td>\n",
              "      <td>all</td>\n",
              "      <td>All Industries</td>\n",
              "      <td>j_Grand_Total</td>\n",
              "      <td>Fixed tangible assets</td>\n",
              "      <td>562646</td>\n",
              "      <td>DOLLARS(millions)</td>\n",
              "    </tr>\n",
              "  </tbody>\n",
              "</table>\n",
              "<p>15480 rows × 7 columns</p>\n",
              "</div>"
            ],
            "text/plain": [
              "       year industry_code_ANZSIC  ...    value               unit\n",
              "0      2011                    A  ...    46134              COUNT\n",
              "1      2011                    A  ...        0              COUNT\n",
              "2      2011                    A  ...      279  DOLLARS(millions)\n",
              "3      2011                    A  ...     8187  DOLLARS(millions)\n",
              "4      2011                    A  ...     8866  DOLLARS(millions)\n",
              "...     ...                  ...  ...      ...                ...\n",
              "15475  2020                  all  ...   733258  DOLLARS(millions)\n",
              "15476  2020                  all  ...   654872  DOLLARS(millions)\n",
              "15477  2020                  all  ...    77389  DOLLARS(millions)\n",
              "15478  2020                  all  ...  2396143  DOLLARS(millions)\n",
              "15479  2020                  all  ...   562646  DOLLARS(millions)\n",
              "\n",
              "[15480 rows x 7 columns]"
            ]
          },
          "metadata": {},
          "execution_count": 8
        }
      ]
    },
    {
      "cell_type": "code",
      "metadata": {
        "colab": {
          "base_uri": "https://localhost:8080/"
        },
        "id": "FWTiqlQZdlRy",
        "outputId": "209aa93b-fffe-4082-d41f-556caeb24b00"
      },
      "source": [
        "s = pd.Series([2, 4, np.nan, 7])\n",
        "s"
      ],
      "execution_count": 10,
      "outputs": [
        {
          "output_type": "execute_result",
          "data": {
            "text/plain": [
              "0    2.0\n",
              "1    4.0\n",
              "2    NaN\n",
              "3    7.0\n",
              "dtype: float64"
            ]
          },
          "metadata": {},
          "execution_count": 10
        }
      ]
    },
    {
      "cell_type": "code",
      "metadata": {
        "colab": {
          "base_uri": "https://localhost:8080/"
        },
        "id": "rVoY9sgSd0Dm",
        "outputId": "cdb5263c-73a8-4c90-9c7b-5ec2acebe6d3"
      },
      "source": [
        "dates = pd.date_range('20160310', periods=3)\n",
        "dates"
      ],
      "execution_count": 14,
      "outputs": [
        {
          "output_type": "execute_result",
          "data": {
            "text/plain": [
              "DatetimeIndex(['2016-03-10', '2016-03-11', '2016-03-12'], dtype='datetime64[ns]', freq='D')"
            ]
          },
          "metadata": {},
          "execution_count": 14
        }
      ]
    },
    {
      "cell_type": "code",
      "metadata": {
        "colab": {
          "base_uri": "https://localhost:8080/",
          "height": 142
        },
        "id": "DGLmBu2ad_Op",
        "outputId": "3c2705cf-faa6-4f2b-b5ed-15ad6a11b905"
      },
      "source": [
        "df = pd.DataFrame(np.random.randn(3,4), index=dates, columns=list(\"PQRS\"))\n",
        "df"
      ],
      "execution_count": 18,
      "outputs": [
        {
          "output_type": "execute_result",
          "data": {
            "text/html": [
              "<div>\n",
              "<style scoped>\n",
              "    .dataframe tbody tr th:only-of-type {\n",
              "        vertical-align: middle;\n",
              "    }\n",
              "\n",
              "    .dataframe tbody tr th {\n",
              "        vertical-align: top;\n",
              "    }\n",
              "\n",
              "    .dataframe thead th {\n",
              "        text-align: right;\n",
              "    }\n",
              "</style>\n",
              "<table border=\"1\" class=\"dataframe\">\n",
              "  <thead>\n",
              "    <tr style=\"text-align: right;\">\n",
              "      <th></th>\n",
              "      <th>P</th>\n",
              "      <th>Q</th>\n",
              "      <th>R</th>\n",
              "      <th>S</th>\n",
              "    </tr>\n",
              "  </thead>\n",
              "  <tbody>\n",
              "    <tr>\n",
              "      <th>2016-03-10</th>\n",
              "      <td>-0.093419</td>\n",
              "      <td>-1.765785</td>\n",
              "      <td>-0.813624</td>\n",
              "      <td>-0.001447</td>\n",
              "    </tr>\n",
              "    <tr>\n",
              "      <th>2016-03-11</th>\n",
              "      <td>0.244966</td>\n",
              "      <td>-0.362878</td>\n",
              "      <td>0.024854</td>\n",
              "      <td>0.036940</td>\n",
              "    </tr>\n",
              "    <tr>\n",
              "      <th>2016-03-12</th>\n",
              "      <td>0.309707</td>\n",
              "      <td>0.205968</td>\n",
              "      <td>0.125346</td>\n",
              "      <td>-0.369362</td>\n",
              "    </tr>\n",
              "  </tbody>\n",
              "</table>\n",
              "</div>"
            ],
            "text/plain": [
              "                   P         Q         R         S\n",
              "2016-03-10 -0.093419 -1.765785 -0.813624 -0.001447\n",
              "2016-03-11  0.244966 -0.362878  0.024854  0.036940\n",
              "2016-03-12  0.309707  0.205968  0.125346 -0.369362"
            ]
          },
          "metadata": {},
          "execution_count": 18
        }
      ]
    },
    {
      "cell_type": "code",
      "metadata": {
        "colab": {
          "base_uri": "https://localhost:8080/"
        },
        "id": "J8oMJNMleR2q",
        "outputId": "ed6fdff4-5030-4630-c1ad-f918c5eb4088"
      },
      "source": [
        "df2 = pd.DataFrame(\n",
        "{\n",
        "'P': 13.0,\n",
        "'Q': pd.Timestamp('20150309'),\n",
        "'R': pd.Series(1, index=list(range(4)), dtype='float32'),\n",
        "'S': np.array([3] * 4, dtype='int32'),\n",
        "'T': pd.Categorical(['data', 'test','data','test'])\n",
        "}\n",
        ")\n",
        "\n",
        "df2.dtypes"
      ],
      "execution_count": 25,
      "outputs": [
        {
          "output_type": "execute_result",
          "data": {
            "text/plain": [
              "P           float64\n",
              "Q    datetime64[ns]\n",
              "R           float32\n",
              "S             int32\n",
              "T          category\n",
              "dtype: object"
            ]
          },
          "metadata": {},
          "execution_count": 25
        }
      ]
    },
    {
      "cell_type": "code",
      "metadata": {
        "colab": {
          "base_uri": "https://localhost:8080/",
          "height": 142
        },
        "id": "kUQhY_1WfQRG",
        "outputId": "08226d49-8449-4491-bc7d-7078dfe06712"
      },
      "source": [
        "df.head()"
      ],
      "execution_count": 26,
      "outputs": [
        {
          "output_type": "execute_result",
          "data": {
            "text/html": [
              "<div>\n",
              "<style scoped>\n",
              "    .dataframe tbody tr th:only-of-type {\n",
              "        vertical-align: middle;\n",
              "    }\n",
              "\n",
              "    .dataframe tbody tr th {\n",
              "        vertical-align: top;\n",
              "    }\n",
              "\n",
              "    .dataframe thead th {\n",
              "        text-align: right;\n",
              "    }\n",
              "</style>\n",
              "<table border=\"1\" class=\"dataframe\">\n",
              "  <thead>\n",
              "    <tr style=\"text-align: right;\">\n",
              "      <th></th>\n",
              "      <th>P</th>\n",
              "      <th>Q</th>\n",
              "      <th>R</th>\n",
              "      <th>S</th>\n",
              "    </tr>\n",
              "  </thead>\n",
              "  <tbody>\n",
              "    <tr>\n",
              "      <th>2016-03-10</th>\n",
              "      <td>-0.093419</td>\n",
              "      <td>-1.765785</td>\n",
              "      <td>-0.813624</td>\n",
              "      <td>-0.001447</td>\n",
              "    </tr>\n",
              "    <tr>\n",
              "      <th>2016-03-11</th>\n",
              "      <td>0.244966</td>\n",
              "      <td>-0.362878</td>\n",
              "      <td>0.024854</td>\n",
              "      <td>0.036940</td>\n",
              "    </tr>\n",
              "    <tr>\n",
              "      <th>2016-03-12</th>\n",
              "      <td>0.309707</td>\n",
              "      <td>0.205968</td>\n",
              "      <td>0.125346</td>\n",
              "      <td>-0.369362</td>\n",
              "    </tr>\n",
              "  </tbody>\n",
              "</table>\n",
              "</div>"
            ],
            "text/plain": [
              "                   P         Q         R         S\n",
              "2016-03-10 -0.093419 -1.765785 -0.813624 -0.001447\n",
              "2016-03-11  0.244966 -0.362878  0.024854  0.036940\n",
              "2016-03-12  0.309707  0.205968  0.125346 -0.369362"
            ]
          },
          "metadata": {},
          "execution_count": 26
        }
      ]
    },
    {
      "cell_type": "code",
      "metadata": {
        "colab": {
          "base_uri": "https://localhost:8080/",
          "height": 142
        },
        "id": "gbYo5emWfTyq",
        "outputId": "1226aef5-da8e-4a81-a242-c3481d9a0d4c"
      },
      "source": [
        "df.tail()"
      ],
      "execution_count": 27,
      "outputs": [
        {
          "output_type": "execute_result",
          "data": {
            "text/html": [
              "<div>\n",
              "<style scoped>\n",
              "    .dataframe tbody tr th:only-of-type {\n",
              "        vertical-align: middle;\n",
              "    }\n",
              "\n",
              "    .dataframe tbody tr th {\n",
              "        vertical-align: top;\n",
              "    }\n",
              "\n",
              "    .dataframe thead th {\n",
              "        text-align: right;\n",
              "    }\n",
              "</style>\n",
              "<table border=\"1\" class=\"dataframe\">\n",
              "  <thead>\n",
              "    <tr style=\"text-align: right;\">\n",
              "      <th></th>\n",
              "      <th>P</th>\n",
              "      <th>Q</th>\n",
              "      <th>R</th>\n",
              "      <th>S</th>\n",
              "    </tr>\n",
              "  </thead>\n",
              "  <tbody>\n",
              "    <tr>\n",
              "      <th>2016-03-10</th>\n",
              "      <td>-0.093419</td>\n",
              "      <td>-1.765785</td>\n",
              "      <td>-0.813624</td>\n",
              "      <td>-0.001447</td>\n",
              "    </tr>\n",
              "    <tr>\n",
              "      <th>2016-03-11</th>\n",
              "      <td>0.244966</td>\n",
              "      <td>-0.362878</td>\n",
              "      <td>0.024854</td>\n",
              "      <td>0.036940</td>\n",
              "    </tr>\n",
              "    <tr>\n",
              "      <th>2016-03-12</th>\n",
              "      <td>0.309707</td>\n",
              "      <td>0.205968</td>\n",
              "      <td>0.125346</td>\n",
              "      <td>-0.369362</td>\n",
              "    </tr>\n",
              "  </tbody>\n",
              "</table>\n",
              "</div>"
            ],
            "text/plain": [
              "                   P         Q         R         S\n",
              "2016-03-10 -0.093419 -1.765785 -0.813624 -0.001447\n",
              "2016-03-11  0.244966 -0.362878  0.024854  0.036940\n",
              "2016-03-12  0.309707  0.205968  0.125346 -0.369362"
            ]
          },
          "metadata": {},
          "execution_count": 27
        }
      ]
    },
    {
      "cell_type": "code",
      "metadata": {
        "colab": {
          "base_uri": "https://localhost:8080/"
        },
        "id": "bI82otY6fY7F",
        "outputId": "3c42f62c-a767-46be-8712-95ded8acbfa5"
      },
      "source": [
        "df2.index"
      ],
      "execution_count": 30,
      "outputs": [
        {
          "output_type": "execute_result",
          "data": {
            "text/plain": [
              "Int64Index([0, 1, 2, 3], dtype='int64')"
            ]
          },
          "metadata": {},
          "execution_count": 30
        }
      ]
    },
    {
      "cell_type": "code",
      "metadata": {
        "colab": {
          "base_uri": "https://localhost:8080/",
          "height": 173
        },
        "id": "67r7JbndfeL1",
        "outputId": "75b232d2-f058-430c-f6c6-c9c2b8f2ae2b"
      },
      "source": [
        "df2.tail()"
      ],
      "execution_count": 31,
      "outputs": [
        {
          "output_type": "execute_result",
          "data": {
            "text/html": [
              "<div>\n",
              "<style scoped>\n",
              "    .dataframe tbody tr th:only-of-type {\n",
              "        vertical-align: middle;\n",
              "    }\n",
              "\n",
              "    .dataframe tbody tr th {\n",
              "        vertical-align: top;\n",
              "    }\n",
              "\n",
              "    .dataframe thead th {\n",
              "        text-align: right;\n",
              "    }\n",
              "</style>\n",
              "<table border=\"1\" class=\"dataframe\">\n",
              "  <thead>\n",
              "    <tr style=\"text-align: right;\">\n",
              "      <th></th>\n",
              "      <th>P</th>\n",
              "      <th>Q</th>\n",
              "      <th>R</th>\n",
              "      <th>S</th>\n",
              "      <th>T</th>\n",
              "    </tr>\n",
              "  </thead>\n",
              "  <tbody>\n",
              "    <tr>\n",
              "      <th>0</th>\n",
              "      <td>13.0</td>\n",
              "      <td>2015-03-09</td>\n",
              "      <td>1.0</td>\n",
              "      <td>3</td>\n",
              "      <td>data</td>\n",
              "    </tr>\n",
              "    <tr>\n",
              "      <th>1</th>\n",
              "      <td>13.0</td>\n",
              "      <td>2015-03-09</td>\n",
              "      <td>1.0</td>\n",
              "      <td>3</td>\n",
              "      <td>test</td>\n",
              "    </tr>\n",
              "    <tr>\n",
              "      <th>2</th>\n",
              "      <td>13.0</td>\n",
              "      <td>2015-03-09</td>\n",
              "      <td>1.0</td>\n",
              "      <td>3</td>\n",
              "      <td>data</td>\n",
              "    </tr>\n",
              "    <tr>\n",
              "      <th>3</th>\n",
              "      <td>13.0</td>\n",
              "      <td>2015-03-09</td>\n",
              "      <td>1.0</td>\n",
              "      <td>3</td>\n",
              "      <td>test</td>\n",
              "    </tr>\n",
              "  </tbody>\n",
              "</table>\n",
              "</div>"
            ],
            "text/plain": [
              "      P          Q    R  S     T\n",
              "0  13.0 2015-03-09  1.0  3  data\n",
              "1  13.0 2015-03-09  1.0  3  test\n",
              "2  13.0 2015-03-09  1.0  3  data\n",
              "3  13.0 2015-03-09  1.0  3  test"
            ]
          },
          "metadata": {},
          "execution_count": 31
        }
      ]
    },
    {
      "cell_type": "code",
      "metadata": {
        "colab": {
          "base_uri": "https://localhost:8080/"
        },
        "id": "hAVLPvLjfm5x",
        "outputId": "029a0f0e-f130-4327-8953-a62d9c9aa126"
      },
      "source": [
        "df.columns"
      ],
      "execution_count": 33,
      "outputs": [
        {
          "output_type": "execute_result",
          "data": {
            "text/plain": [
              "Index(['P', 'Q', 'R', 'S'], dtype='object')"
            ]
          },
          "metadata": {},
          "execution_count": 33
        }
      ]
    },
    {
      "cell_type": "code",
      "metadata": {
        "colab": {
          "base_uri": "https://localhost:8080/"
        },
        "id": "nRlFLc6YfpUL",
        "outputId": "5b643288-a9fe-4875-8428-a56c59fff429"
      },
      "source": [
        "df.shape"
      ],
      "execution_count": 34,
      "outputs": [
        {
          "output_type": "execute_result",
          "data": {
            "text/plain": [
              "(3, 4)"
            ]
          },
          "metadata": {},
          "execution_count": 34
        }
      ]
    },
    {
      "cell_type": "code",
      "metadata": {
        "colab": {
          "base_uri": "https://localhost:8080/"
        },
        "id": "LekTHQCkfr_1",
        "outputId": "ebce1707-a42f-4ae7-e81a-9c7f2111af25"
      },
      "source": [
        "df.to_numpy() "
      ],
      "execution_count": 35,
      "outputs": [
        {
          "output_type": "execute_result",
          "data": {
            "text/plain": [
              "array([[-9.34187889e-02, -1.76578462e+00, -8.13624304e-01,\n",
              "        -1.44674512e-03],\n",
              "       [ 2.44966086e-01, -3.62878269e-01,  2.48541771e-02,\n",
              "         3.69395463e-02],\n",
              "       [ 3.09706712e-01,  2.05967530e-01,  1.25346358e-01,\n",
              "        -3.69362143e-01]])"
            ]
          },
          "metadata": {},
          "execution_count": 35
        }
      ]
    },
    {
      "cell_type": "code",
      "metadata": {
        "colab": {
          "base_uri": "https://localhost:8080/",
          "height": 297
        },
        "id": "qBnxKBe4fuY2",
        "outputId": "3ec90c41-a0a3-4828-f650-1fddd5fd5eca"
      },
      "source": [
        "df.describe()"
      ],
      "execution_count": 36,
      "outputs": [
        {
          "output_type": "execute_result",
          "data": {
            "text/html": [
              "<div>\n",
              "<style scoped>\n",
              "    .dataframe tbody tr th:only-of-type {\n",
              "        vertical-align: middle;\n",
              "    }\n",
              "\n",
              "    .dataframe tbody tr th {\n",
              "        vertical-align: top;\n",
              "    }\n",
              "\n",
              "    .dataframe thead th {\n",
              "        text-align: right;\n",
              "    }\n",
              "</style>\n",
              "<table border=\"1\" class=\"dataframe\">\n",
              "  <thead>\n",
              "    <tr style=\"text-align: right;\">\n",
              "      <th></th>\n",
              "      <th>P</th>\n",
              "      <th>Q</th>\n",
              "      <th>R</th>\n",
              "      <th>S</th>\n",
              "    </tr>\n",
              "  </thead>\n",
              "  <tbody>\n",
              "    <tr>\n",
              "      <th>count</th>\n",
              "      <td>3.000000</td>\n",
              "      <td>3.000000</td>\n",
              "      <td>3.000000</td>\n",
              "      <td>3.000000</td>\n",
              "    </tr>\n",
              "    <tr>\n",
              "      <th>mean</th>\n",
              "      <td>0.153751</td>\n",
              "      <td>-0.640898</td>\n",
              "      <td>-0.221141</td>\n",
              "      <td>-0.111290</td>\n",
              "    </tr>\n",
              "    <tr>\n",
              "      <th>std</th>\n",
              "      <td>0.216489</td>\n",
              "      <td>1.014851</td>\n",
              "      <td>0.515560</td>\n",
              "      <td>0.224320</td>\n",
              "    </tr>\n",
              "    <tr>\n",
              "      <th>min</th>\n",
              "      <td>-0.093419</td>\n",
              "      <td>-1.765785</td>\n",
              "      <td>-0.813624</td>\n",
              "      <td>-0.369362</td>\n",
              "    </tr>\n",
              "    <tr>\n",
              "      <th>25%</th>\n",
              "      <td>0.075774</td>\n",
              "      <td>-1.064331</td>\n",
              "      <td>-0.394385</td>\n",
              "      <td>-0.185404</td>\n",
              "    </tr>\n",
              "    <tr>\n",
              "      <th>50%</th>\n",
              "      <td>0.244966</td>\n",
              "      <td>-0.362878</td>\n",
              "      <td>0.024854</td>\n",
              "      <td>-0.001447</td>\n",
              "    </tr>\n",
              "    <tr>\n",
              "      <th>75%</th>\n",
              "      <td>0.277336</td>\n",
              "      <td>-0.078455</td>\n",
              "      <td>0.075100</td>\n",
              "      <td>0.017746</td>\n",
              "    </tr>\n",
              "    <tr>\n",
              "      <th>max</th>\n",
              "      <td>0.309707</td>\n",
              "      <td>0.205968</td>\n",
              "      <td>0.125346</td>\n",
              "      <td>0.036940</td>\n",
              "    </tr>\n",
              "  </tbody>\n",
              "</table>\n",
              "</div>"
            ],
            "text/plain": [
              "              P         Q         R         S\n",
              "count  3.000000  3.000000  3.000000  3.000000\n",
              "mean   0.153751 -0.640898 -0.221141 -0.111290\n",
              "std    0.216489  1.014851  0.515560  0.224320\n",
              "min   -0.093419 -1.765785 -0.813624 -0.369362\n",
              "25%    0.075774 -1.064331 -0.394385 -0.185404\n",
              "50%    0.244966 -0.362878  0.024854 -0.001447\n",
              "75%    0.277336 -0.078455  0.075100  0.017746\n",
              "max    0.309707  0.205968  0.125346  0.036940"
            ]
          },
          "metadata": {},
          "execution_count": 36
        }
      ]
    },
    {
      "cell_type": "code",
      "metadata": {
        "colab": {
          "base_uri": "https://localhost:8080/",
          "height": 173
        },
        "id": "KsxDtqaLfwMd",
        "outputId": "4c92bd85-2033-4722-cb5e-096b52e39f17"
      },
      "source": [
        "df.T"
      ],
      "execution_count": 37,
      "outputs": [
        {
          "output_type": "execute_result",
          "data": {
            "text/html": [
              "<div>\n",
              "<style scoped>\n",
              "    .dataframe tbody tr th:only-of-type {\n",
              "        vertical-align: middle;\n",
              "    }\n",
              "\n",
              "    .dataframe tbody tr th {\n",
              "        vertical-align: top;\n",
              "    }\n",
              "\n",
              "    .dataframe thead th {\n",
              "        text-align: right;\n",
              "    }\n",
              "</style>\n",
              "<table border=\"1\" class=\"dataframe\">\n",
              "  <thead>\n",
              "    <tr style=\"text-align: right;\">\n",
              "      <th></th>\n",
              "      <th>2016-03-10</th>\n",
              "      <th>2016-03-11</th>\n",
              "      <th>2016-03-12</th>\n",
              "    </tr>\n",
              "  </thead>\n",
              "  <tbody>\n",
              "    <tr>\n",
              "      <th>P</th>\n",
              "      <td>-0.093419</td>\n",
              "      <td>0.244966</td>\n",
              "      <td>0.309707</td>\n",
              "    </tr>\n",
              "    <tr>\n",
              "      <th>Q</th>\n",
              "      <td>-1.765785</td>\n",
              "      <td>-0.362878</td>\n",
              "      <td>0.205968</td>\n",
              "    </tr>\n",
              "    <tr>\n",
              "      <th>R</th>\n",
              "      <td>-0.813624</td>\n",
              "      <td>0.024854</td>\n",
              "      <td>0.125346</td>\n",
              "    </tr>\n",
              "    <tr>\n",
              "      <th>S</th>\n",
              "      <td>-0.001447</td>\n",
              "      <td>0.036940</td>\n",
              "      <td>-0.369362</td>\n",
              "    </tr>\n",
              "  </tbody>\n",
              "</table>\n",
              "</div>"
            ],
            "text/plain": [
              "   2016-03-10  2016-03-11  2016-03-12\n",
              "P   -0.093419    0.244966    0.309707\n",
              "Q   -1.765785   -0.362878    0.205968\n",
              "R   -0.813624    0.024854    0.125346\n",
              "S   -0.001447    0.036940   -0.369362"
            ]
          },
          "metadata": {},
          "execution_count": 37
        }
      ]
    },
    {
      "cell_type": "code",
      "metadata": {
        "colab": {
          "base_uri": "https://localhost:8080/",
          "height": 142
        },
        "id": "0LCbR_sVfznH",
        "outputId": "024e2f9a-7f40-44cf-bff8-ab2534f283e1"
      },
      "source": [
        "df.sort_index(axis=1, ascending=False)"
      ],
      "execution_count": 38,
      "outputs": [
        {
          "output_type": "execute_result",
          "data": {
            "text/html": [
              "<div>\n",
              "<style scoped>\n",
              "    .dataframe tbody tr th:only-of-type {\n",
              "        vertical-align: middle;\n",
              "    }\n",
              "\n",
              "    .dataframe tbody tr th {\n",
              "        vertical-align: top;\n",
              "    }\n",
              "\n",
              "    .dataframe thead th {\n",
              "        text-align: right;\n",
              "    }\n",
              "</style>\n",
              "<table border=\"1\" class=\"dataframe\">\n",
              "  <thead>\n",
              "    <tr style=\"text-align: right;\">\n",
              "      <th></th>\n",
              "      <th>S</th>\n",
              "      <th>R</th>\n",
              "      <th>Q</th>\n",
              "      <th>P</th>\n",
              "    </tr>\n",
              "  </thead>\n",
              "  <tbody>\n",
              "    <tr>\n",
              "      <th>2016-03-10</th>\n",
              "      <td>-0.001447</td>\n",
              "      <td>-0.813624</td>\n",
              "      <td>-1.765785</td>\n",
              "      <td>-0.093419</td>\n",
              "    </tr>\n",
              "    <tr>\n",
              "      <th>2016-03-11</th>\n",
              "      <td>0.036940</td>\n",
              "      <td>0.024854</td>\n",
              "      <td>-0.362878</td>\n",
              "      <td>0.244966</td>\n",
              "    </tr>\n",
              "    <tr>\n",
              "      <th>2016-03-12</th>\n",
              "      <td>-0.369362</td>\n",
              "      <td>0.125346</td>\n",
              "      <td>0.205968</td>\n",
              "      <td>0.309707</td>\n",
              "    </tr>\n",
              "  </tbody>\n",
              "</table>\n",
              "</div>"
            ],
            "text/plain": [
              "                   S         R         Q         P\n",
              "2016-03-10 -0.001447 -0.813624 -1.765785 -0.093419\n",
              "2016-03-11  0.036940  0.024854 -0.362878  0.244966\n",
              "2016-03-12 -0.369362  0.125346  0.205968  0.309707"
            ]
          },
          "metadata": {},
          "execution_count": 38
        }
      ]
    },
    {
      "cell_type": "code",
      "metadata": {
        "colab": {
          "base_uri": "https://localhost:8080/",
          "height": 142
        },
        "id": "55ty_FNMf1bP",
        "outputId": "62080175-ed98-42f6-efa8-6bdde8b2d0dc"
      },
      "source": [
        "df.sort_values(by=\"R\")"
      ],
      "execution_count": 39,
      "outputs": [
        {
          "output_type": "execute_result",
          "data": {
            "text/html": [
              "<div>\n",
              "<style scoped>\n",
              "    .dataframe tbody tr th:only-of-type {\n",
              "        vertical-align: middle;\n",
              "    }\n",
              "\n",
              "    .dataframe tbody tr th {\n",
              "        vertical-align: top;\n",
              "    }\n",
              "\n",
              "    .dataframe thead th {\n",
              "        text-align: right;\n",
              "    }\n",
              "</style>\n",
              "<table border=\"1\" class=\"dataframe\">\n",
              "  <thead>\n",
              "    <tr style=\"text-align: right;\">\n",
              "      <th></th>\n",
              "      <th>P</th>\n",
              "      <th>Q</th>\n",
              "      <th>R</th>\n",
              "      <th>S</th>\n",
              "    </tr>\n",
              "  </thead>\n",
              "  <tbody>\n",
              "    <tr>\n",
              "      <th>2016-03-10</th>\n",
              "      <td>-0.093419</td>\n",
              "      <td>-1.765785</td>\n",
              "      <td>-0.813624</td>\n",
              "      <td>-0.001447</td>\n",
              "    </tr>\n",
              "    <tr>\n",
              "      <th>2016-03-11</th>\n",
              "      <td>0.244966</td>\n",
              "      <td>-0.362878</td>\n",
              "      <td>0.024854</td>\n",
              "      <td>0.036940</td>\n",
              "    </tr>\n",
              "    <tr>\n",
              "      <th>2016-03-12</th>\n",
              "      <td>0.309707</td>\n",
              "      <td>0.205968</td>\n",
              "      <td>0.125346</td>\n",
              "      <td>-0.369362</td>\n",
              "    </tr>\n",
              "  </tbody>\n",
              "</table>\n",
              "</div>"
            ],
            "text/plain": [
              "                   P         Q         R         S\n",
              "2016-03-10 -0.093419 -1.765785 -0.813624 -0.001447\n",
              "2016-03-11  0.244966 -0.362878  0.024854  0.036940\n",
              "2016-03-12  0.309707  0.205968  0.125346 -0.369362"
            ]
          },
          "metadata": {},
          "execution_count": 39
        }
      ]
    },
    {
      "cell_type": "code",
      "metadata": {
        "colab": {
          "base_uri": "https://localhost:8080/"
        },
        "id": "rfTRwMVsf4aS",
        "outputId": "0e359af9-b950-40c5-864d-71abdf34f300"
      },
      "source": [
        "df[\"S\"]"
      ],
      "execution_count": 40,
      "outputs": [
        {
          "output_type": "execute_result",
          "data": {
            "text/plain": [
              "2016-03-10   -0.001447\n",
              "2016-03-11    0.036940\n",
              "2016-03-12   -0.369362\n",
              "Freq: D, Name: S, dtype: float64"
            ]
          },
          "metadata": {},
          "execution_count": 40
        }
      ]
    },
    {
      "cell_type": "code",
      "metadata": {
        "colab": {
          "base_uri": "https://localhost:8080/",
          "height": 142
        },
        "id": "c-uS4vqMf889",
        "outputId": "6784dbe8-501a-4613-b27d-d9e35d81d1d0"
      },
      "source": [
        "df[0:3]"
      ],
      "execution_count": 45,
      "outputs": [
        {
          "output_type": "execute_result",
          "data": {
            "text/html": [
              "<div>\n",
              "<style scoped>\n",
              "    .dataframe tbody tr th:only-of-type {\n",
              "        vertical-align: middle;\n",
              "    }\n",
              "\n",
              "    .dataframe tbody tr th {\n",
              "        vertical-align: top;\n",
              "    }\n",
              "\n",
              "    .dataframe thead th {\n",
              "        text-align: right;\n",
              "    }\n",
              "</style>\n",
              "<table border=\"1\" class=\"dataframe\">\n",
              "  <thead>\n",
              "    <tr style=\"text-align: right;\">\n",
              "      <th></th>\n",
              "      <th>P</th>\n",
              "      <th>Q</th>\n",
              "      <th>R</th>\n",
              "      <th>S</th>\n",
              "    </tr>\n",
              "  </thead>\n",
              "  <tbody>\n",
              "    <tr>\n",
              "      <th>2016-03-10</th>\n",
              "      <td>-0.093419</td>\n",
              "      <td>-1.765785</td>\n",
              "      <td>-0.813624</td>\n",
              "      <td>-0.001447</td>\n",
              "    </tr>\n",
              "    <tr>\n",
              "      <th>2016-03-11</th>\n",
              "      <td>0.244966</td>\n",
              "      <td>-0.362878</td>\n",
              "      <td>0.024854</td>\n",
              "      <td>0.036940</td>\n",
              "    </tr>\n",
              "    <tr>\n",
              "      <th>2016-03-12</th>\n",
              "      <td>0.309707</td>\n",
              "      <td>0.205968</td>\n",
              "      <td>0.125346</td>\n",
              "      <td>-0.369362</td>\n",
              "    </tr>\n",
              "  </tbody>\n",
              "</table>\n",
              "</div>"
            ],
            "text/plain": [
              "                   P         Q         R         S\n",
              "2016-03-10 -0.093419 -1.765785 -0.813624 -0.001447\n",
              "2016-03-11  0.244966 -0.362878  0.024854  0.036940\n",
              "2016-03-12  0.309707  0.205968  0.125346 -0.369362"
            ]
          },
          "metadata": {},
          "execution_count": 45
        }
      ]
    },
    {
      "cell_type": "code",
      "metadata": {
        "colab": {
          "base_uri": "https://localhost:8080/"
        },
        "id": "HNoIQGcbgM8c",
        "outputId": "4af6658b-2e5c-4161-a734-978d3b6b4363"
      },
      "source": [
        "df.loc[dates[0]]"
      ],
      "execution_count": 47,
      "outputs": [
        {
          "output_type": "execute_result",
          "data": {
            "text/plain": [
              "P   -0.093419\n",
              "Q   -1.765785\n",
              "R   -0.813624\n",
              "S   -0.001447\n",
              "Name: 2016-03-10 00:00:00, dtype: float64"
            ]
          },
          "metadata": {},
          "execution_count": 47
        }
      ]
    },
    {
      "cell_type": "code",
      "metadata": {
        "colab": {
          "base_uri": "https://localhost:8080/",
          "height": 142
        },
        "id": "Dr4LFsUCgSNE",
        "outputId": "56d5b7f8-1318-4843-eacb-965fb070bf14"
      },
      "source": [
        "df.loc[:, [\"P\", \"Q\"]]"
      ],
      "execution_count": 48,
      "outputs": [
        {
          "output_type": "execute_result",
          "data": {
            "text/html": [
              "<div>\n",
              "<style scoped>\n",
              "    .dataframe tbody tr th:only-of-type {\n",
              "        vertical-align: middle;\n",
              "    }\n",
              "\n",
              "    .dataframe tbody tr th {\n",
              "        vertical-align: top;\n",
              "    }\n",
              "\n",
              "    .dataframe thead th {\n",
              "        text-align: right;\n",
              "    }\n",
              "</style>\n",
              "<table border=\"1\" class=\"dataframe\">\n",
              "  <thead>\n",
              "    <tr style=\"text-align: right;\">\n",
              "      <th></th>\n",
              "      <th>P</th>\n",
              "      <th>Q</th>\n",
              "    </tr>\n",
              "  </thead>\n",
              "  <tbody>\n",
              "    <tr>\n",
              "      <th>2016-03-10</th>\n",
              "      <td>-0.093419</td>\n",
              "      <td>-1.765785</td>\n",
              "    </tr>\n",
              "    <tr>\n",
              "      <th>2016-03-11</th>\n",
              "      <td>0.244966</td>\n",
              "      <td>-0.362878</td>\n",
              "    </tr>\n",
              "    <tr>\n",
              "      <th>2016-03-12</th>\n",
              "      <td>0.309707</td>\n",
              "      <td>0.205968</td>\n",
              "    </tr>\n",
              "  </tbody>\n",
              "</table>\n",
              "</div>"
            ],
            "text/plain": [
              "                   P         Q\n",
              "2016-03-10 -0.093419 -1.765785\n",
              "2016-03-11  0.244966 -0.362878\n",
              "2016-03-12  0.309707  0.205968"
            ]
          },
          "metadata": {},
          "execution_count": 48
        }
      ]
    },
    {
      "cell_type": "code",
      "metadata": {
        "colab": {
          "base_uri": "https://localhost:8080/",
          "height": 111
        },
        "id": "SLaTb4tEgXqL",
        "outputId": "ab2f6748-5bc9-457e-cfc3-aafe97ff5591"
      },
      "source": [
        "df.iloc[[1, 2], [0, 1]]"
      ],
      "execution_count": 51,
      "outputs": [
        {
          "output_type": "execute_result",
          "data": {
            "text/html": [
              "<div>\n",
              "<style scoped>\n",
              "    .dataframe tbody tr th:only-of-type {\n",
              "        vertical-align: middle;\n",
              "    }\n",
              "\n",
              "    .dataframe tbody tr th {\n",
              "        vertical-align: top;\n",
              "    }\n",
              "\n",
              "    .dataframe thead th {\n",
              "        text-align: right;\n",
              "    }\n",
              "</style>\n",
              "<table border=\"1\" class=\"dataframe\">\n",
              "  <thead>\n",
              "    <tr style=\"text-align: right;\">\n",
              "      <th></th>\n",
              "      <th>P</th>\n",
              "      <th>Q</th>\n",
              "    </tr>\n",
              "  </thead>\n",
              "  <tbody>\n",
              "    <tr>\n",
              "      <th>2016-03-11</th>\n",
              "      <td>0.244966</td>\n",
              "      <td>-0.362878</td>\n",
              "    </tr>\n",
              "    <tr>\n",
              "      <th>2016-03-12</th>\n",
              "      <td>0.309707</td>\n",
              "      <td>0.205968</td>\n",
              "    </tr>\n",
              "  </tbody>\n",
              "</table>\n",
              "</div>"
            ],
            "text/plain": [
              "                   P         Q\n",
              "2016-03-11  0.244966 -0.362878\n",
              "2016-03-12  0.309707  0.205968"
            ]
          },
          "metadata": {},
          "execution_count": 51
        }
      ]
    },
    {
      "cell_type": "code",
      "metadata": {
        "colab": {
          "base_uri": "https://localhost:8080/",
          "height": 142
        },
        "id": "J5oMT_Khgd0w",
        "outputId": "7d939853-9ee6-48fc-b3a0-c956e02fb027"
      },
      "source": [
        "df[df > 0]"
      ],
      "execution_count": 52,
      "outputs": [
        {
          "output_type": "execute_result",
          "data": {
            "text/html": [
              "<div>\n",
              "<style scoped>\n",
              "    .dataframe tbody tr th:only-of-type {\n",
              "        vertical-align: middle;\n",
              "    }\n",
              "\n",
              "    .dataframe tbody tr th {\n",
              "        vertical-align: top;\n",
              "    }\n",
              "\n",
              "    .dataframe thead th {\n",
              "        text-align: right;\n",
              "    }\n",
              "</style>\n",
              "<table border=\"1\" class=\"dataframe\">\n",
              "  <thead>\n",
              "    <tr style=\"text-align: right;\">\n",
              "      <th></th>\n",
              "      <th>P</th>\n",
              "      <th>Q</th>\n",
              "      <th>R</th>\n",
              "      <th>S</th>\n",
              "    </tr>\n",
              "  </thead>\n",
              "  <tbody>\n",
              "    <tr>\n",
              "      <th>2016-03-10</th>\n",
              "      <td>NaN</td>\n",
              "      <td>NaN</td>\n",
              "      <td>NaN</td>\n",
              "      <td>NaN</td>\n",
              "    </tr>\n",
              "    <tr>\n",
              "      <th>2016-03-11</th>\n",
              "      <td>0.244966</td>\n",
              "      <td>NaN</td>\n",
              "      <td>0.024854</td>\n",
              "      <td>0.03694</td>\n",
              "    </tr>\n",
              "    <tr>\n",
              "      <th>2016-03-12</th>\n",
              "      <td>0.309707</td>\n",
              "      <td>0.205968</td>\n",
              "      <td>0.125346</td>\n",
              "      <td>NaN</td>\n",
              "    </tr>\n",
              "  </tbody>\n",
              "</table>\n",
              "</div>"
            ],
            "text/plain": [
              "                   P         Q         R        S\n",
              "2016-03-10       NaN       NaN       NaN      NaN\n",
              "2016-03-11  0.244966       NaN  0.024854  0.03694\n",
              "2016-03-12  0.309707  0.205968  0.125346      NaN"
            ]
          },
          "metadata": {},
          "execution_count": 52
        }
      ]
    },
    {
      "cell_type": "code",
      "metadata": {
        "colab": {
          "base_uri": "https://localhost:8080/",
          "height": 142
        },
        "id": "GiAwsVk0giHE",
        "outputId": "03f3a8bb-1d22-47e4-9ef7-f4d97575f22b"
      },
      "source": [
        "df.loc[:, \"Q\"] = np.array([5] * len(df))\n",
        "df"
      ],
      "execution_count": 54,
      "outputs": [
        {
          "output_type": "execute_result",
          "data": {
            "text/html": [
              "<div>\n",
              "<style scoped>\n",
              "    .dataframe tbody tr th:only-of-type {\n",
              "        vertical-align: middle;\n",
              "    }\n",
              "\n",
              "    .dataframe tbody tr th {\n",
              "        vertical-align: top;\n",
              "    }\n",
              "\n",
              "    .dataframe thead th {\n",
              "        text-align: right;\n",
              "    }\n",
              "</style>\n",
              "<table border=\"1\" class=\"dataframe\">\n",
              "  <thead>\n",
              "    <tr style=\"text-align: right;\">\n",
              "      <th></th>\n",
              "      <th>P</th>\n",
              "      <th>Q</th>\n",
              "      <th>R</th>\n",
              "      <th>S</th>\n",
              "    </tr>\n",
              "  </thead>\n",
              "  <tbody>\n",
              "    <tr>\n",
              "      <th>2016-03-10</th>\n",
              "      <td>-0.093419</td>\n",
              "      <td>5</td>\n",
              "      <td>-0.813624</td>\n",
              "      <td>-0.001447</td>\n",
              "    </tr>\n",
              "    <tr>\n",
              "      <th>2016-03-11</th>\n",
              "      <td>0.244966</td>\n",
              "      <td>5</td>\n",
              "      <td>0.024854</td>\n",
              "      <td>0.036940</td>\n",
              "    </tr>\n",
              "    <tr>\n",
              "      <th>2016-03-12</th>\n",
              "      <td>0.309707</td>\n",
              "      <td>5</td>\n",
              "      <td>0.125346</td>\n",
              "      <td>-0.369362</td>\n",
              "    </tr>\n",
              "  </tbody>\n",
              "</table>\n",
              "</div>"
            ],
            "text/plain": [
              "                   P  Q         R         S\n",
              "2016-03-10 -0.093419  5 -0.813624 -0.001447\n",
              "2016-03-11  0.244966  5  0.024854  0.036940\n",
              "2016-03-12  0.309707  5  0.125346 -0.369362"
            ]
          },
          "metadata": {},
          "execution_count": 54
        }
      ]
    },
    {
      "cell_type": "code",
      "metadata": {
        "colab": {
          "base_uri": "https://localhost:8080/",
          "height": 142
        },
        "id": "RMuS-mv2gvB4",
        "outputId": "984a772e-772c-477f-d097-d321879c0f40"
      },
      "source": [
        "df.iat[0, 1] = 0\n",
        "df"
      ],
      "execution_count": 55,
      "outputs": [
        {
          "output_type": "execute_result",
          "data": {
            "text/html": [
              "<div>\n",
              "<style scoped>\n",
              "    .dataframe tbody tr th:only-of-type {\n",
              "        vertical-align: middle;\n",
              "    }\n",
              "\n",
              "    .dataframe tbody tr th {\n",
              "        vertical-align: top;\n",
              "    }\n",
              "\n",
              "    .dataframe thead th {\n",
              "        text-align: right;\n",
              "    }\n",
              "</style>\n",
              "<table border=\"1\" class=\"dataframe\">\n",
              "  <thead>\n",
              "    <tr style=\"text-align: right;\">\n",
              "      <th></th>\n",
              "      <th>P</th>\n",
              "      <th>Q</th>\n",
              "      <th>R</th>\n",
              "      <th>S</th>\n",
              "    </tr>\n",
              "  </thead>\n",
              "  <tbody>\n",
              "    <tr>\n",
              "      <th>2016-03-10</th>\n",
              "      <td>-0.093419</td>\n",
              "      <td>0</td>\n",
              "      <td>-0.813624</td>\n",
              "      <td>-0.001447</td>\n",
              "    </tr>\n",
              "    <tr>\n",
              "      <th>2016-03-11</th>\n",
              "      <td>0.244966</td>\n",
              "      <td>5</td>\n",
              "      <td>0.024854</td>\n",
              "      <td>0.036940</td>\n",
              "    </tr>\n",
              "    <tr>\n",
              "      <th>2016-03-12</th>\n",
              "      <td>0.309707</td>\n",
              "      <td>5</td>\n",
              "      <td>0.125346</td>\n",
              "      <td>-0.369362</td>\n",
              "    </tr>\n",
              "  </tbody>\n",
              "</table>\n",
              "</div>"
            ],
            "text/plain": [
              "                   P  Q         R         S\n",
              "2016-03-10 -0.093419  0 -0.813624 -0.001447\n",
              "2016-03-11  0.244966  5  0.024854  0.036940\n",
              "2016-03-12  0.309707  5  0.125346 -0.369362"
            ]
          },
          "metadata": {},
          "execution_count": 55
        }
      ]
    },
    {
      "cell_type": "code",
      "metadata": {
        "colab": {
          "base_uri": "https://localhost:8080/",
          "height": 111
        },
        "id": "IqIqauBOgycC",
        "outputId": "4184be06-af9e-42e8-c3d4-920ddeebe1ec"
      },
      "source": [
        "df1 = df.reindex(index=dates[0:2], columns=list(df.columns) + [\"T\"])\n",
        "df1"
      ],
      "execution_count": 59,
      "outputs": [
        {
          "output_type": "execute_result",
          "data": {
            "text/html": [
              "<div>\n",
              "<style scoped>\n",
              "    .dataframe tbody tr th:only-of-type {\n",
              "        vertical-align: middle;\n",
              "    }\n",
              "\n",
              "    .dataframe tbody tr th {\n",
              "        vertical-align: top;\n",
              "    }\n",
              "\n",
              "    .dataframe thead th {\n",
              "        text-align: right;\n",
              "    }\n",
              "</style>\n",
              "<table border=\"1\" class=\"dataframe\">\n",
              "  <thead>\n",
              "    <tr style=\"text-align: right;\">\n",
              "      <th></th>\n",
              "      <th>P</th>\n",
              "      <th>Q</th>\n",
              "      <th>R</th>\n",
              "      <th>S</th>\n",
              "      <th>T</th>\n",
              "    </tr>\n",
              "  </thead>\n",
              "  <tbody>\n",
              "    <tr>\n",
              "      <th>2016-03-10</th>\n",
              "      <td>-0.093419</td>\n",
              "      <td>0</td>\n",
              "      <td>-0.813624</td>\n",
              "      <td>-0.001447</td>\n",
              "      <td>NaN</td>\n",
              "    </tr>\n",
              "    <tr>\n",
              "      <th>2016-03-11</th>\n",
              "      <td>0.244966</td>\n",
              "      <td>5</td>\n",
              "      <td>0.024854</td>\n",
              "      <td>0.036940</td>\n",
              "      <td>NaN</td>\n",
              "    </tr>\n",
              "  </tbody>\n",
              "</table>\n",
              "</div>"
            ],
            "text/plain": [
              "                   P  Q         R         S   T\n",
              "2016-03-10 -0.093419  0 -0.813624 -0.001447 NaN\n",
              "2016-03-11  0.244966  5  0.024854  0.036940 NaN"
            ]
          },
          "metadata": {},
          "execution_count": 59
        }
      ]
    },
    {
      "cell_type": "code",
      "metadata": {
        "colab": {
          "base_uri": "https://localhost:8080/",
          "height": 111
        },
        "id": "9tLISwcOg7Vx",
        "outputId": "a064bbb0-baa2-43fb-9b17-85e83771f9d5"
      },
      "source": [
        "df1.loc[dates[0] : dates[1], \"T\"] = 1\n",
        "df1"
      ],
      "execution_count": 60,
      "outputs": [
        {
          "output_type": "execute_result",
          "data": {
            "text/html": [
              "<div>\n",
              "<style scoped>\n",
              "    .dataframe tbody tr th:only-of-type {\n",
              "        vertical-align: middle;\n",
              "    }\n",
              "\n",
              "    .dataframe tbody tr th {\n",
              "        vertical-align: top;\n",
              "    }\n",
              "\n",
              "    .dataframe thead th {\n",
              "        text-align: right;\n",
              "    }\n",
              "</style>\n",
              "<table border=\"1\" class=\"dataframe\">\n",
              "  <thead>\n",
              "    <tr style=\"text-align: right;\">\n",
              "      <th></th>\n",
              "      <th>P</th>\n",
              "      <th>Q</th>\n",
              "      <th>R</th>\n",
              "      <th>S</th>\n",
              "      <th>T</th>\n",
              "    </tr>\n",
              "  </thead>\n",
              "  <tbody>\n",
              "    <tr>\n",
              "      <th>2016-03-10</th>\n",
              "      <td>-0.093419</td>\n",
              "      <td>0</td>\n",
              "      <td>-0.813624</td>\n",
              "      <td>-0.001447</td>\n",
              "      <td>1</td>\n",
              "    </tr>\n",
              "    <tr>\n",
              "      <th>2016-03-11</th>\n",
              "      <td>0.244966</td>\n",
              "      <td>5</td>\n",
              "      <td>0.024854</td>\n",
              "      <td>0.036940</td>\n",
              "      <td>1</td>\n",
              "    </tr>\n",
              "  </tbody>\n",
              "</table>\n",
              "</div>"
            ],
            "text/plain": [
              "                   P  Q         R         S  T\n",
              "2016-03-10 -0.093419  0 -0.813624 -0.001447  1\n",
              "2016-03-11  0.244966  5  0.024854  0.036940  1"
            ]
          },
          "metadata": {},
          "execution_count": 60
        }
      ]
    },
    {
      "cell_type": "code",
      "metadata": {
        "colab": {
          "base_uri": "https://localhost:8080/",
          "height": 111
        },
        "id": "EzqEfm66g_ww",
        "outputId": "9ad61749-aab1-4bc0-d98c-dd4d2cb5cf24"
      },
      "source": [
        "df1.dropna(how=\"any\")"
      ],
      "execution_count": 61,
      "outputs": [
        {
          "output_type": "execute_result",
          "data": {
            "text/html": [
              "<div>\n",
              "<style scoped>\n",
              "    .dataframe tbody tr th:only-of-type {\n",
              "        vertical-align: middle;\n",
              "    }\n",
              "\n",
              "    .dataframe tbody tr th {\n",
              "        vertical-align: top;\n",
              "    }\n",
              "\n",
              "    .dataframe thead th {\n",
              "        text-align: right;\n",
              "    }\n",
              "</style>\n",
              "<table border=\"1\" class=\"dataframe\">\n",
              "  <thead>\n",
              "    <tr style=\"text-align: right;\">\n",
              "      <th></th>\n",
              "      <th>P</th>\n",
              "      <th>Q</th>\n",
              "      <th>R</th>\n",
              "      <th>S</th>\n",
              "      <th>T</th>\n",
              "    </tr>\n",
              "  </thead>\n",
              "  <tbody>\n",
              "    <tr>\n",
              "      <th>2016-03-10</th>\n",
              "      <td>-0.093419</td>\n",
              "      <td>0</td>\n",
              "      <td>-0.813624</td>\n",
              "      <td>-0.001447</td>\n",
              "      <td>1</td>\n",
              "    </tr>\n",
              "    <tr>\n",
              "      <th>2016-03-11</th>\n",
              "      <td>0.244966</td>\n",
              "      <td>5</td>\n",
              "      <td>0.024854</td>\n",
              "      <td>0.036940</td>\n",
              "      <td>1</td>\n",
              "    </tr>\n",
              "  </tbody>\n",
              "</table>\n",
              "</div>"
            ],
            "text/plain": [
              "                   P  Q         R         S  T\n",
              "2016-03-10 -0.093419  0 -0.813624 -0.001447  1\n",
              "2016-03-11  0.244966  5  0.024854  0.036940  1"
            ]
          },
          "metadata": {},
          "execution_count": 61
        }
      ]
    },
    {
      "cell_type": "code",
      "metadata": {
        "colab": {
          "base_uri": "https://localhost:8080/"
        },
        "id": "Qp7xb9aLhC5n",
        "outputId": "786f53b8-f7cf-4acc-fa02-fe55ec361ad7"
      },
      "source": [
        "df1.mean(1)"
      ],
      "execution_count": 63,
      "outputs": [
        {
          "output_type": "execute_result",
          "data": {
            "text/plain": [
              "2016-03-10    0.018302\n",
              "2016-03-11    1.261352\n",
              "Freq: D, dtype: float64"
            ]
          },
          "metadata": {},
          "execution_count": 63
        }
      ]
    },
    {
      "cell_type": "code",
      "metadata": {
        "colab": {
          "base_uri": "https://localhost:8080/",
          "height": 142
        },
        "id": "U0c2cQ4khGbp",
        "outputId": "22943f08-6bf1-46af-91b8-c2190bee82e9"
      },
      "source": [
        "s1 = pd.Series([1,np.nan,10], index=dates).shift(2)\n",
        "df.sub(s1, axis=\"index\")"
      ],
      "execution_count": 67,
      "outputs": [
        {
          "output_type": "execute_result",
          "data": {
            "text/html": [
              "<div>\n",
              "<style scoped>\n",
              "    .dataframe tbody tr th:only-of-type {\n",
              "        vertical-align: middle;\n",
              "    }\n",
              "\n",
              "    .dataframe tbody tr th {\n",
              "        vertical-align: top;\n",
              "    }\n",
              "\n",
              "    .dataframe thead th {\n",
              "        text-align: right;\n",
              "    }\n",
              "</style>\n",
              "<table border=\"1\" class=\"dataframe\">\n",
              "  <thead>\n",
              "    <tr style=\"text-align: right;\">\n",
              "      <th></th>\n",
              "      <th>P</th>\n",
              "      <th>Q</th>\n",
              "      <th>R</th>\n",
              "      <th>S</th>\n",
              "    </tr>\n",
              "  </thead>\n",
              "  <tbody>\n",
              "    <tr>\n",
              "      <th>2016-03-10</th>\n",
              "      <td>NaN</td>\n",
              "      <td>NaN</td>\n",
              "      <td>NaN</td>\n",
              "      <td>NaN</td>\n",
              "    </tr>\n",
              "    <tr>\n",
              "      <th>2016-03-11</th>\n",
              "      <td>NaN</td>\n",
              "      <td>NaN</td>\n",
              "      <td>NaN</td>\n",
              "      <td>NaN</td>\n",
              "    </tr>\n",
              "    <tr>\n",
              "      <th>2016-03-12</th>\n",
              "      <td>-0.690293</td>\n",
              "      <td>4.0</td>\n",
              "      <td>-0.874654</td>\n",
              "      <td>-1.369362</td>\n",
              "    </tr>\n",
              "  </tbody>\n",
              "</table>\n",
              "</div>"
            ],
            "text/plain": [
              "                   P    Q         R         S\n",
              "2016-03-10       NaN  NaN       NaN       NaN\n",
              "2016-03-11       NaN  NaN       NaN       NaN\n",
              "2016-03-12 -0.690293  4.0 -0.874654 -1.369362"
            ]
          },
          "metadata": {},
          "execution_count": 67
        }
      ]
    },
    {
      "cell_type": "code",
      "metadata": {
        "colab": {
          "base_uri": "https://localhost:8080/",
          "height": 142
        },
        "id": "4PhYz8ThhWzM",
        "outputId": "f326ccb5-e09e-4e5a-e287-ab8de7e970ab"
      },
      "source": [
        "df.apply(np.cumsum)"
      ],
      "execution_count": 68,
      "outputs": [
        {
          "output_type": "execute_result",
          "data": {
            "text/html": [
              "<div>\n",
              "<style scoped>\n",
              "    .dataframe tbody tr th:only-of-type {\n",
              "        vertical-align: middle;\n",
              "    }\n",
              "\n",
              "    .dataframe tbody tr th {\n",
              "        vertical-align: top;\n",
              "    }\n",
              "\n",
              "    .dataframe thead th {\n",
              "        text-align: right;\n",
              "    }\n",
              "</style>\n",
              "<table border=\"1\" class=\"dataframe\">\n",
              "  <thead>\n",
              "    <tr style=\"text-align: right;\">\n",
              "      <th></th>\n",
              "      <th>P</th>\n",
              "      <th>Q</th>\n",
              "      <th>R</th>\n",
              "      <th>S</th>\n",
              "    </tr>\n",
              "  </thead>\n",
              "  <tbody>\n",
              "    <tr>\n",
              "      <th>2016-03-10</th>\n",
              "      <td>-0.093419</td>\n",
              "      <td>0</td>\n",
              "      <td>-0.813624</td>\n",
              "      <td>-0.001447</td>\n",
              "    </tr>\n",
              "    <tr>\n",
              "      <th>2016-03-11</th>\n",
              "      <td>0.151547</td>\n",
              "      <td>5</td>\n",
              "      <td>-0.788770</td>\n",
              "      <td>0.035493</td>\n",
              "    </tr>\n",
              "    <tr>\n",
              "      <th>2016-03-12</th>\n",
              "      <td>0.461254</td>\n",
              "      <td>10</td>\n",
              "      <td>-0.663424</td>\n",
              "      <td>-0.333869</td>\n",
              "    </tr>\n",
              "  </tbody>\n",
              "</table>\n",
              "</div>"
            ],
            "text/plain": [
              "                   P   Q         R         S\n",
              "2016-03-10 -0.093419   0 -0.813624 -0.001447\n",
              "2016-03-11  0.151547   5 -0.788770  0.035493\n",
              "2016-03-12  0.461254  10 -0.663424 -0.333869"
            ]
          },
          "metadata": {},
          "execution_count": 68
        }
      ]
    },
    {
      "cell_type": "code",
      "metadata": {
        "colab": {
          "base_uri": "https://localhost:8080/"
        },
        "id": "RuWgGGFDhbMF",
        "outputId": "f5e264ad-1a16-4c06-a0d9-eb44c40b79e9"
      },
      "source": [
        "df.apply(lambda x: x.max() - x.min())"
      ],
      "execution_count": 69,
      "outputs": [
        {
          "output_type": "execute_result",
          "data": {
            "text/plain": [
              "P    0.403126\n",
              "Q    5.000000\n",
              "R    0.938971\n",
              "S    0.406302\n",
              "dtype: float64"
            ]
          },
          "metadata": {},
          "execution_count": 69
        }
      ]
    },
    {
      "cell_type": "code",
      "metadata": {
        "colab": {
          "base_uri": "https://localhost:8080/"
        },
        "id": "9VSaJmD2hcUk",
        "outputId": "9d831811-9781-4d32-b246-0109ef7aa320"
      },
      "source": [
        "s = pd.Series(np.random.randint(0, 4, size=5))\n",
        "s.value_counts() "
      ],
      "execution_count": 71,
      "outputs": [
        {
          "output_type": "execute_result",
          "data": {
            "text/plain": [
              "2    4\n",
              "0    1\n",
              "dtype: int64"
            ]
          },
          "metadata": {},
          "execution_count": 71
        }
      ]
    },
    {
      "cell_type": "code",
      "metadata": {
        "colab": {
          "base_uri": "https://localhost:8080/"
        },
        "id": "cvgwDjRihhgH",
        "outputId": "e8673828-b362-4732-8da4-789da88788a1"
      },
      "source": [
        "s = pd.Series([\"Data\",\"TRaIn\", np.nan, \"TEST\"])\n",
        "s.str.lower() \n"
      ],
      "execution_count": 73,
      "outputs": [
        {
          "output_type": "execute_result",
          "data": {
            "text/plain": [
              "0     data\n",
              "1    train\n",
              "2      NaN\n",
              "3     test\n",
              "dtype: object"
            ]
          },
          "metadata": {},
          "execution_count": 73
        }
      ]
    },
    {
      "cell_type": "code",
      "metadata": {
        "colab": {
          "base_uri": "https://localhost:8080/",
          "height": 421
        },
        "id": "_r8I4z3phvyi",
        "outputId": "2d8505a5-b145-4f3a-efe2-d7425de44533"
      },
      "source": [
        "df = pd.DataFrame(np.random.randn(12, 4))\n",
        "pieces = [df[:4], df[4:8], df[8:]] \n",
        "pd.concat(pieces)\n"
      ],
      "execution_count": 76,
      "outputs": [
        {
          "output_type": "execute_result",
          "data": {
            "text/html": [
              "<div>\n",
              "<style scoped>\n",
              "    .dataframe tbody tr th:only-of-type {\n",
              "        vertical-align: middle;\n",
              "    }\n",
              "\n",
              "    .dataframe tbody tr th {\n",
              "        vertical-align: top;\n",
              "    }\n",
              "\n",
              "    .dataframe thead th {\n",
              "        text-align: right;\n",
              "    }\n",
              "</style>\n",
              "<table border=\"1\" class=\"dataframe\">\n",
              "  <thead>\n",
              "    <tr style=\"text-align: right;\">\n",
              "      <th></th>\n",
              "      <th>0</th>\n",
              "      <th>1</th>\n",
              "      <th>2</th>\n",
              "      <th>3</th>\n",
              "    </tr>\n",
              "  </thead>\n",
              "  <tbody>\n",
              "    <tr>\n",
              "      <th>0</th>\n",
              "      <td>0.158397</td>\n",
              "      <td>0.900205</td>\n",
              "      <td>-0.822208</td>\n",
              "      <td>-0.169011</td>\n",
              "    </tr>\n",
              "    <tr>\n",
              "      <th>1</th>\n",
              "      <td>0.040154</td>\n",
              "      <td>-1.065923</td>\n",
              "      <td>-0.834613</td>\n",
              "      <td>0.615742</td>\n",
              "    </tr>\n",
              "    <tr>\n",
              "      <th>2</th>\n",
              "      <td>-1.158154</td>\n",
              "      <td>-0.301262</td>\n",
              "      <td>0.173333</td>\n",
              "      <td>1.387446</td>\n",
              "    </tr>\n",
              "    <tr>\n",
              "      <th>3</th>\n",
              "      <td>-0.075562</td>\n",
              "      <td>-1.082553</td>\n",
              "      <td>-0.295089</td>\n",
              "      <td>1.676584</td>\n",
              "    </tr>\n",
              "    <tr>\n",
              "      <th>4</th>\n",
              "      <td>-0.460699</td>\n",
              "      <td>0.488226</td>\n",
              "      <td>-0.580283</td>\n",
              "      <td>-0.142208</td>\n",
              "    </tr>\n",
              "    <tr>\n",
              "      <th>5</th>\n",
              "      <td>0.867116</td>\n",
              "      <td>-0.900713</td>\n",
              "      <td>0.033609</td>\n",
              "      <td>-0.134115</td>\n",
              "    </tr>\n",
              "    <tr>\n",
              "      <th>6</th>\n",
              "      <td>0.717452</td>\n",
              "      <td>0.363819</td>\n",
              "      <td>0.631986</td>\n",
              "      <td>-0.903903</td>\n",
              "    </tr>\n",
              "    <tr>\n",
              "      <th>7</th>\n",
              "      <td>-0.915796</td>\n",
              "      <td>-0.194742</td>\n",
              "      <td>0.183648</td>\n",
              "      <td>0.086887</td>\n",
              "    </tr>\n",
              "    <tr>\n",
              "      <th>8</th>\n",
              "      <td>-1.433689</td>\n",
              "      <td>-1.588055</td>\n",
              "      <td>0.171512</td>\n",
              "      <td>0.261727</td>\n",
              "    </tr>\n",
              "    <tr>\n",
              "      <th>9</th>\n",
              "      <td>-0.453003</td>\n",
              "      <td>-0.253983</td>\n",
              "      <td>-0.464527</td>\n",
              "      <td>1.305695</td>\n",
              "    </tr>\n",
              "    <tr>\n",
              "      <th>10</th>\n",
              "      <td>-0.352310</td>\n",
              "      <td>0.376223</td>\n",
              "      <td>-0.683425</td>\n",
              "      <td>0.328100</td>\n",
              "    </tr>\n",
              "    <tr>\n",
              "      <th>11</th>\n",
              "      <td>0.528886</td>\n",
              "      <td>3.157239</td>\n",
              "      <td>0.068015</td>\n",
              "      <td>0.273788</td>\n",
              "    </tr>\n",
              "  </tbody>\n",
              "</table>\n",
              "</div>"
            ],
            "text/plain": [
              "           0         1         2         3\n",
              "0   0.158397  0.900205 -0.822208 -0.169011\n",
              "1   0.040154 -1.065923 -0.834613  0.615742\n",
              "2  -1.158154 -0.301262  0.173333  1.387446\n",
              "3  -0.075562 -1.082553 -0.295089  1.676584\n",
              "4  -0.460699  0.488226 -0.580283 -0.142208\n",
              "5   0.867116 -0.900713  0.033609 -0.134115\n",
              "6   0.717452  0.363819  0.631986 -0.903903\n",
              "7  -0.915796 -0.194742  0.183648  0.086887\n",
              "8  -1.433689 -1.588055  0.171512  0.261727\n",
              "9  -0.453003 -0.253983 -0.464527  1.305695\n",
              "10 -0.352310  0.376223 -0.683425  0.328100\n",
              "11  0.528886  3.157239  0.068015  0.273788"
            ]
          },
          "metadata": {},
          "execution_count": 76
        }
      ]
    },
    {
      "cell_type": "code",
      "metadata": {
        "colab": {
          "base_uri": "https://localhost:8080/",
          "height": 204
        },
        "id": "UAIj3CcWh65k",
        "outputId": "8f654527-a1d7-4e06-d245-aed3a329def2"
      },
      "source": [
        "df = pd.DataFrame(\n",
        "   {\n",
        "   \"A\": [\"foo\", \"bar\", \"foo\", \"bar\"],\n",
        "   \"B\": [\"one\", \"one\", \"two\", \"three\"],\n",
        "   \"C\": np.random.randn(4),\n",
        "   \"D\": np.random.randn(4),\n",
        "   }\n",
        "    )\n",
        "   \n",
        "df.groupby(\"A\").sum()\n",
        "df.groupby([\"A\", \"B\"]).sum()\n"
      ],
      "execution_count": 81,
      "outputs": [
        {
          "output_type": "execute_result",
          "data": {
            "text/html": [
              "<div>\n",
              "<style scoped>\n",
              "    .dataframe tbody tr th:only-of-type {\n",
              "        vertical-align: middle;\n",
              "    }\n",
              "\n",
              "    .dataframe tbody tr th {\n",
              "        vertical-align: top;\n",
              "    }\n",
              "\n",
              "    .dataframe thead th {\n",
              "        text-align: right;\n",
              "    }\n",
              "</style>\n",
              "<table border=\"1\" class=\"dataframe\">\n",
              "  <thead>\n",
              "    <tr style=\"text-align: right;\">\n",
              "      <th></th>\n",
              "      <th></th>\n",
              "      <th>C</th>\n",
              "      <th>D</th>\n",
              "    </tr>\n",
              "    <tr>\n",
              "      <th>A</th>\n",
              "      <th>B</th>\n",
              "      <th></th>\n",
              "      <th></th>\n",
              "    </tr>\n",
              "  </thead>\n",
              "  <tbody>\n",
              "    <tr>\n",
              "      <th rowspan=\"2\" valign=\"top\">bar</th>\n",
              "      <th>one</th>\n",
              "      <td>0.234006</td>\n",
              "      <td>-0.872879</td>\n",
              "    </tr>\n",
              "    <tr>\n",
              "      <th>three</th>\n",
              "      <td>0.975800</td>\n",
              "      <td>0.374896</td>\n",
              "    </tr>\n",
              "    <tr>\n",
              "      <th rowspan=\"2\" valign=\"top\">foo</th>\n",
              "      <th>one</th>\n",
              "      <td>-1.456830</td>\n",
              "      <td>0.366576</td>\n",
              "    </tr>\n",
              "    <tr>\n",
              "      <th>two</th>\n",
              "      <td>-0.718247</td>\n",
              "      <td>-0.705556</td>\n",
              "    </tr>\n",
              "  </tbody>\n",
              "</table>\n",
              "</div>"
            ],
            "text/plain": [
              "                  C         D\n",
              "A   B                        \n",
              "bar one    0.234006 -0.872879\n",
              "    three  0.975800  0.374896\n",
              "foo one   -1.456830  0.366576\n",
              "    two   -0.718247 -0.705556"
            ]
          },
          "metadata": {},
          "execution_count": 81
        }
      ]
    },
    {
      "cell_type": "code",
      "metadata": {
        "colab": {
          "base_uri": "https://localhost:8080/",
          "height": 204
        },
        "id": "3aYIgGuIiKuc",
        "outputId": "7b2d5236-5d02-4fe8-8aa7-22b3c29dbe5e"
      },
      "source": [
        "tuples = list(\n",
        "   zip(\n",
        "   *[\n",
        "   [\"bar\", \"bar\", \"baz\", \"baz\", \"foo\", \"foo\", \"qux\", \"qux\"],\n",
        "   [\"one\", \"two\", \"one\", \"two\", \"one\", \"two\", \"one\", \"two\"],\n",
        "   ]   )  )\n",
        "index = pd.MultiIndex.from_tuples(tuples, names=[\"first\", \"second\"])\n",
        "df = pd.DataFrame(np.random.randn(8,2), index=index, columns=[\"X\", \"Y\"])\n",
        "df2 = df[:5]\n",
        "df2\n",
        "stacked = df2.stack() \n",
        "stacked.unstack()\n",
        "stacked.unstack(1)\n",
        "stacked.unstack(0)\n"
      ],
      "execution_count": 84,
      "outputs": [
        {
          "output_type": "execute_result",
          "data": {
            "text/html": [
              "<div>\n",
              "<style scoped>\n",
              "    .dataframe tbody tr th:only-of-type {\n",
              "        vertical-align: middle;\n",
              "    }\n",
              "\n",
              "    .dataframe tbody tr th {\n",
              "        vertical-align: top;\n",
              "    }\n",
              "\n",
              "    .dataframe thead th {\n",
              "        text-align: right;\n",
              "    }\n",
              "</style>\n",
              "<table border=\"1\" class=\"dataframe\">\n",
              "  <thead>\n",
              "    <tr style=\"text-align: right;\">\n",
              "      <th></th>\n",
              "      <th>first</th>\n",
              "      <th>bar</th>\n",
              "      <th>baz</th>\n",
              "      <th>foo</th>\n",
              "    </tr>\n",
              "    <tr>\n",
              "      <th>second</th>\n",
              "      <th></th>\n",
              "      <th></th>\n",
              "      <th></th>\n",
              "      <th></th>\n",
              "    </tr>\n",
              "  </thead>\n",
              "  <tbody>\n",
              "    <tr>\n",
              "      <th rowspan=\"2\" valign=\"top\">one</th>\n",
              "      <th>X</th>\n",
              "      <td>-1.241020</td>\n",
              "      <td>0.325110</td>\n",
              "      <td>-0.241900</td>\n",
              "    </tr>\n",
              "    <tr>\n",
              "      <th>Y</th>\n",
              "      <td>1.502662</td>\n",
              "      <td>0.284842</td>\n",
              "      <td>-0.780406</td>\n",
              "    </tr>\n",
              "    <tr>\n",
              "      <th rowspan=\"2\" valign=\"top\">two</th>\n",
              "      <th>X</th>\n",
              "      <td>-0.716384</td>\n",
              "      <td>0.361693</td>\n",
              "      <td>NaN</td>\n",
              "    </tr>\n",
              "    <tr>\n",
              "      <th>Y</th>\n",
              "      <td>-0.245274</td>\n",
              "      <td>-0.740164</td>\n",
              "      <td>NaN</td>\n",
              "    </tr>\n",
              "  </tbody>\n",
              "</table>\n",
              "</div>"
            ],
            "text/plain": [
              "first          bar       baz       foo\n",
              "second                                \n",
              "one    X -1.241020  0.325110 -0.241900\n",
              "       Y  1.502662  0.284842 -0.780406\n",
              "two    X -0.716384  0.361693       NaN\n",
              "       Y -0.245274 -0.740164       NaN"
            ]
          },
          "metadata": {},
          "execution_count": 84
        }
      ]
    },
    {
      "cell_type": "code",
      "metadata": {
        "colab": {
          "base_uri": "https://localhost:8080/"
        },
        "id": "SSnez8gBiY0f",
        "outputId": "4b92f8b8-1a23-48c8-a8f6-3ac4ba5d3ba5"
      },
      "source": [
        "rng = pd.date_range(\"13/12/2016\", periods=100, freq=\"S\")\n",
        "ts = pd.Series(np.random.randint(0, 500, len(rng)), index=rng)\n",
        "ts.resample(\"5Min\").sum()\n",
        "rng = pd.date_range(\"4/8/2017 00:00\", periods=5, freq=\"D\")\n",
        "ts = pd.Series(np.random.randn(len(rng)), rng)\n",
        "\n",
        "ts_utc = ts.tz_localize(\"UTC\")\n",
        "ts_utc\n",
        "\n",
        "ts_utc.tz_convert(\"US/Eastern\")\n",
        "\n",
        "rng = pd.date_range(\"21/12/2016\", periods=5, freq=\"M\")\n",
        "\n",
        "ts = pd.Series(np.random.randn(len(rng)), index=rng)\n",
        "\n",
        "ps = ts.to_period()\n",
        "ps.to_timestamp()\n"
      ],
      "execution_count": 88,
      "outputs": [
        {
          "output_type": "execute_result",
          "data": {
            "text/plain": [
              "2016-12-01    1.160213\n",
              "2017-01-01    1.181086\n",
              "2017-02-01   -0.045104\n",
              "2017-03-01   -0.631934\n",
              "2017-04-01    0.098927\n",
              "Freq: MS, dtype: float64"
            ]
          },
          "metadata": {},
          "execution_count": 88
        }
      ]
    },
    {
      "cell_type": "code",
      "metadata": {
        "colab": {
          "base_uri": "https://localhost:8080/"
        },
        "id": "_dv2xKcjirR5",
        "outputId": "67fecb17-84ea-4825-e723-12fcb6fdd644"
      },
      "source": [
        "df = pd.DataFrame(\n",
        "   {\"id\": [1, 2, 3, 4, 5, 6], \"raw_grade\": [\"a\", \"b\", \"b\", \"a\", \"a\", \"e\"]}\n",
        "   )\n",
        "df[\"grade\"] = df[\"raw_grade\"].astype(\"category\")\n",
        "df['grade']\n",
        "\n",
        "df[\"grade\"].cat.categories = [\"very good\", \"good\", \"very bad\"]\n",
        "\n",
        "df[\"grade\"] = df[\"grade\"].cat.set_categories(\n",
        "   [\"very bad\", \"bad\", \"medium\", \"good\", \"very good\"]\n",
        "   )\n",
        "df[\"grade\"]\n",
        "\n",
        "df.sort_values(by=\"grade\")\n",
        "df.groupby(\"grade\").size()\n"
      ],
      "execution_count": 92,
      "outputs": [
        {
          "output_type": "execute_result",
          "data": {
            "text/plain": [
              "grade\n",
              "very bad     1\n",
              "bad          0\n",
              "medium       0\n",
              "good         2\n",
              "very good    3\n",
              "dtype: int64"
            ]
          },
          "metadata": {},
          "execution_count": 92
        }
      ]
    },
    {
      "cell_type": "code",
      "metadata": {
        "colab": {
          "base_uri": "https://localhost:8080/",
          "height": 548
        },
        "id": "CQq6W7Voi9HR",
        "outputId": "24b1172f-9e89-4324-8dc9-78d4dfbe5b0b"
      },
      "source": [
        "import matplotlib.pyplot as plt\n",
        "plt.close() \n",
        "ts = pd.Series(np.random.randn(2000), index=pd.date_range(\"1/13/2010\", periods=2000))\n",
        "ts = ts.cumsum()\n",
        "ts.plot();\n",
        "df = pd.DataFrame(np.random.randn(2000,4), index=ts.index, columns=[\"P\", \"Q\", \"R\", \"S\"] ) \n",
        "df = df.cumsum()\n",
        "plt.figure();\n",
        "df.plot();\n",
        "plt.legend(loc='best')"
      ],
      "execution_count": 96,
      "outputs": [
        {
          "output_type": "execute_result",
          "data": {
            "text/plain": [
              "<matplotlib.legend.Legend at 0x7fedb8c5b190>"
            ]
          },
          "metadata": {},
          "execution_count": 96
        },
        {
          "output_type": "display_data",
          "data": {
            "image/png": "[encoded data removed]",
            "text/plain": [
              "<Figure size 432x288 with 1 Axes>"
            ]
          },
          "metadata": {
            "needs_background": "light"
          }
        },
        {
          "output_type": "display_data",
          "data": {
            "text/plain": [
              "<Figure size 432x288 with 0 Axes>"
            ]
          },
          "metadata": {}
        },
        {
          "output_type": "display_data",
          "data": {
            "image/png": "[encoded data removed]",
            "text/plain": [
              "<Figure size 432x288 with 1 Axes>"
            ]
          },
          "metadata": {
            "needs_background": "light"
          }
        }
      ]
    }
  ]
}