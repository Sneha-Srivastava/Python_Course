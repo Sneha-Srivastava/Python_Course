{
  "nbformat": 4,
  "nbformat_minor": 0,
  "metadata": {
    "colab": {
      "name": "Practice 5.ipynb",
      "provenance": [],
      "authorship_tag": "ABX9TyM13uE32DpqGLVEUCIBoLMf",
      "include_colab_link": true
    },
    "kernelspec": {
      "name": "python3",
      "display_name": "Python 3"
    },
    "language_info": {
      "name": "python"
    }
  },
  "cells": [
    {
      "cell_type": "markdown",
      "metadata": {
        "id": "view-in-github",
        "colab_type": "text"
      },
      "source": [
        "<a href=\"https://colab.research.google.com/github/Sneha-Srivastava/Python_Course/blob/main/Practice_5.ipynb\" target=\"_parent\"><img src=\"https://colab.research.google.com/assets/colab-badge.svg\" alt=\"Open In Colab\"/></a>"
      ]
    },
    {
      "cell_type": "markdown",
      "metadata": {
        "id": "PHtsLI99ZTzy"
      },
      "source": [
        "Numpy Assignment"
      ]
    },
    {
      "cell_type": "code",
      "metadata": {
        "colab": {
          "base_uri": "https://localhost:8080/"
        },
        "id": "OEoLzjVXV2mz",
        "outputId": "5a1e7a04-b79a-4508-b8d0-aee15c0c0ead"
      },
      "source": [
        "import numpy as np\n",
        "a = np.arange(12).reshape(3,4)\n",
        "a"
      ],
      "execution_count": 3,
      "outputs": [
        {
          "output_type": "execute_result",
          "data": {
            "text/plain": [
              "array([[ 0,  1,  2,  3],\n",
              "       [ 4,  5,  6,  7],\n",
              "       [ 8,  9, 10, 11]])"
            ]
          },
          "metadata": {},
          "execution_count": 3
        }
      ]
    },
    {
      "cell_type": "code",
      "metadata": {
        "colab": {
          "base_uri": "https://localhost:8080/"
        },
        "id": "3KPH2StAWRps",
        "outputId": "288197d7-67c6-426a-8469-2ea57db0dc35"
      },
      "source": [
        "a.shape"
      ],
      "execution_count": 4,
      "outputs": [
        {
          "output_type": "execute_result",
          "data": {
            "text/plain": [
              "(3, 4)"
            ]
          },
          "metadata": {},
          "execution_count": 4
        }
      ]
    },
    {
      "cell_type": "code",
      "metadata": {
        "colab": {
          "base_uri": "https://localhost:8080/"
        },
        "id": "omfVN0WxWW2h",
        "outputId": "57820141-dd1c-41be-cd2d-ddc706af7185"
      },
      "source": [
        "a.ndim "
      ],
      "execution_count": 5,
      "outputs": [
        {
          "output_type": "execute_result",
          "data": {
            "text/plain": [
              "2"
            ]
          },
          "metadata": {},
          "execution_count": 5
        }
      ]
    },
    {
      "cell_type": "code",
      "metadata": {
        "colab": {
          "base_uri": "https://localhost:8080/",
          "height": 35
        },
        "id": "6w31TzCvWZQv",
        "outputId": "cef5e4a7-c9d8-4548-c05e-e970108545e3"
      },
      "source": [
        "a.dtype.name"
      ],
      "execution_count": 6,
      "outputs": [
        {
          "output_type": "execute_result",
          "data": {
            "application/vnd.google.colaboratory.intrinsic+json": {
              "type": "string"
            },
            "text/plain": [
              "'int64'"
            ]
          },
          "metadata": {},
          "execution_count": 6
        }
      ]
    },
    {
      "cell_type": "code",
      "metadata": {
        "colab": {
          "base_uri": "https://localhost:8080/"
        },
        "id": "8nBOGPavWbbT",
        "outputId": "50fa9ba7-f337-406f-f88d-d5f7ef300929"
      },
      "source": [
        "a.itemsize"
      ],
      "execution_count": 7,
      "outputs": [
        {
          "output_type": "execute_result",
          "data": {
            "text/plain": [
              "8"
            ]
          },
          "metadata": {},
          "execution_count": 7
        }
      ]
    },
    {
      "cell_type": "code",
      "metadata": {
        "colab": {
          "base_uri": "https://localhost:8080/"
        },
        "id": "UiVizrS4WgTY",
        "outputId": "e83ea79d-34b6-4104-ca6f-731f1f5fce79"
      },
      "source": [
        "a.size "
      ],
      "execution_count": 8,
      "outputs": [
        {
          "output_type": "execute_result",
          "data": {
            "text/plain": [
              "12"
            ]
          },
          "metadata": {},
          "execution_count": 8
        }
      ]
    },
    {
      "cell_type": "code",
      "metadata": {
        "colab": {
          "base_uri": "https://localhost:8080/"
        },
        "id": "fJcD5h-JWijp",
        "outputId": "32b4fd29-8984-4c92-fb04-422463b9c356"
      },
      "source": [
        "type(a)"
      ],
      "execution_count": 9,
      "outputs": [
        {
          "output_type": "execute_result",
          "data": {
            "text/plain": [
              "numpy.ndarray"
            ]
          },
          "metadata": {},
          "execution_count": 9
        }
      ]
    },
    {
      "cell_type": "markdown",
      "metadata": {
        "id": "tBfui_JvZN8u"
      },
      "source": [
        "Array creation"
      ]
    },
    {
      "cell_type": "code",
      "metadata": {
        "colab": {
          "base_uri": "https://localhost:8080/"
        },
        "id": "uBHZ5LS7Wj5c",
        "outputId": "ab996b48-dd23-4c81-a731-f3c4d5fde51b"
      },
      "source": [
        "a = np.array([12, 33, 24])\n",
        "a "
      ],
      "execution_count": 11,
      "outputs": [
        {
          "output_type": "execute_result",
          "data": {
            "text/plain": [
              "array([12, 33, 24])"
            ]
          },
          "metadata": {},
          "execution_count": 11
        }
      ]
    },
    {
      "cell_type": "code",
      "metadata": {
        "colab": {
          "base_uri": "https://localhost:8080/"
        },
        "id": "kZGgwKEIWOR6",
        "outputId": "4b0145e9-a98d-4dbf-e5da-4732b01282ac"
      },
      "source": [
        "b = np.array([1.3, 4.5, 8.1])\n",
        "b"
      ],
      "execution_count": 14,
      "outputs": [
        {
          "output_type": "execute_result",
          "data": {
            "text/plain": [
              "array([1.3, 4.5, 8.1])"
            ]
          },
          "metadata": {},
          "execution_count": 14
        }
      ]
    },
    {
      "cell_type": "code",
      "metadata": {
        "colab": {
          "base_uri": "https://localhost:8080/"
        },
        "id": "KmnjpH-dW1vv",
        "outputId": "36776396-33b0-4e8e-8763-eb47c033b68c"
      },
      "source": [
        "c = np.array([[11, 22] , [33, 44]] , dtype = complex)\n",
        "c"
      ],
      "execution_count": 20,
      "outputs": [
        {
          "output_type": "execute_result",
          "data": {
            "text/plain": [
              "array([[11.+0.j, 22.+0.j],\n",
              "       [33.+0.j, 44.+0.j]])"
            ]
          },
          "metadata": {},
          "execution_count": 20
        }
      ]
    },
    {
      "cell_type": "code",
      "metadata": {
        "colab": {
          "base_uri": "https://localhost:8080/"
        },
        "id": "HCeDaJuLXPJd",
        "outputId": "f1a8dc4e-46bc-40a7-c82b-c694b2bf8f17"
      },
      "source": [
        "np.zeros((1,3)) "
      ],
      "execution_count": 21,
      "outputs": [
        {
          "output_type": "execute_result",
          "data": {
            "text/plain": [
              "array([[0., 0., 0.]])"
            ]
          },
          "metadata": {},
          "execution_count": 21
        }
      ]
    },
    {
      "cell_type": "code",
      "metadata": {
        "colab": {
          "base_uri": "https://localhost:8080/"
        },
        "id": "3sCiRbrsXSmy",
        "outputId": "c1a76449-6652-4675-be2c-24efd4a6c9c2"
      },
      "source": [
        "np.ones((2, 3, 4), dtype=np.int16)"
      ],
      "execution_count": 22,
      "outputs": [
        {
          "output_type": "execute_result",
          "data": {
            "text/plain": [
              "array([[[1, 1, 1, 1],\n",
              "        [1, 1, 1, 1],\n",
              "        [1, 1, 1, 1]],\n",
              "\n",
              "       [[1, 1, 1, 1],\n",
              "        [1, 1, 1, 1],\n",
              "        [1, 1, 1, 1]]], dtype=int16)"
            ]
          },
          "metadata": {},
          "execution_count": 22
        }
      ]
    },
    {
      "cell_type": "code",
      "metadata": {
        "colab": {
          "base_uri": "https://localhost:8080/"
        },
        "id": "40iBnG8hXWSP",
        "outputId": "98af2c93-90d1-4e2b-a46f-accebe5f8667"
      },
      "source": [
        "np.empty((2,3))"
      ],
      "execution_count": 23,
      "outputs": [
        {
          "output_type": "execute_result",
          "data": {
            "text/plain": [
              "array([[4.66815576e-310, 0.00000000e+000, 0.00000000e+000],\n",
              "       [0.00000000e+000, 0.00000000e+000, 0.00000000e+000]])"
            ]
          },
          "metadata": {},
          "execution_count": 23
        }
      ]
    },
    {
      "cell_type": "code",
      "metadata": {
        "colab": {
          "base_uri": "https://localhost:8080/"
        },
        "id": "NKJuLDuGXaE4",
        "outputId": "db25542c-6ff6-43ae-e30a-d702789a13b9"
      },
      "source": [
        "np.arange(0, 2, 0.3)"
      ],
      "execution_count": 25,
      "outputs": [
        {
          "output_type": "execute_result",
          "data": {
            "text/plain": [
              "array([0. , 0.3, 0.6, 0.9, 1.2, 1.5, 1.8])"
            ]
          },
          "metadata": {},
          "execution_count": 25
        }
      ]
    },
    {
      "cell_type": "code",
      "metadata": {
        "colab": {
          "base_uri": "https://localhost:8080/"
        },
        "id": "xAT8x3BZXfcT",
        "outputId": "6ff2e379-32c5-4b7d-915f-e400042d2374"
      },
      "source": [
        "from numpy import pi\n",
        "np.linspace(0, 2, 9)\n",
        "x = np.linspace(0, 2*pi, 100)\n",
        "f = np.sin(x)\n",
        "print(np.arange(10000).reshape(100, 100))"
      ],
      "execution_count": 28,
      "outputs": [
        {
          "output_type": "stream",
          "text": [
            "[[   0    1    2 ...   97   98   99]\n",
            " [ 100  101  102 ...  197  198  199]\n",
            " [ 200  201  202 ...  297  298  299]\n",
            " ...\n",
            " [9700 9701 9702 ... 9797 9798 9799]\n",
            " [9800 9801 9802 ... 9897 9898 9899]\n",
            " [9900 9901 9902 ... 9997 9998 9999]]\n"
          ],
          "name": "stdout"
        }
      ]
    },
    {
      "cell_type": "markdown",
      "metadata": {
        "id": "SsyL8PdsZGJk"
      },
      "source": [
        "Basic Operations"
      ]
    },
    {
      "cell_type": "code",
      "metadata": {
        "colab": {
          "base_uri": "https://localhost:8080/"
        },
        "id": "BtZHcP2zXnv_",
        "outputId": "a7410123-bae2-4676-f122-c740ce955e73"
      },
      "source": [
        "a = np.array([10, 20, 30, 40])\n",
        "b = np.arange(4)\n",
        "c = a-b \n",
        "c"
      ],
      "execution_count": 32,
      "outputs": [
        {
          "output_type": "execute_result",
          "data": {
            "text/plain": [
              "array([10, 19, 28, 37])"
            ]
          },
          "metadata": {},
          "execution_count": 32
        }
      ]
    },
    {
      "cell_type": "markdown",
      "metadata": {
        "id": "04dl_j2GZA6A"
      },
      "source": [
        "Matrix Multiplication"
      ]
    },
    {
      "cell_type": "markdown",
      "metadata": {
        "id": "rTGwRvJlZH8P"
      },
      "source": [
        ""
      ]
    },
    {
      "cell_type": "code",
      "metadata": {
        "colab": {
          "base_uri": "https://localhost:8080/"
        },
        "id": "c4_CNKxXXzB-",
        "outputId": "e3a040b7-1ae9-46de-83e7-ca7ec2bd11e5"
      },
      "source": [
        "A = np.array([[1, 1],[0, 1]])\n",
        "B = np.array([[2, 0],[3, 4]])\n",
        "A * B    \n",
        "A @ B     \n",
        "A.dot(B)"
      ],
      "execution_count": 33,
      "outputs": [
        {
          "output_type": "execute_result",
          "data": {
            "text/plain": [
              "array([[5, 4],\n",
              "       [3, 4]])"
            ]
          },
          "metadata": {},
          "execution_count": 33
        }
      ]
    },
    {
      "cell_type": "code",
      "metadata": {
        "colab": {
          "base_uri": "https://localhost:8080/"
        },
        "id": "Erad_XMlX7eD",
        "outputId": "7341415b-22af-4dbb-ed26-fca524691a7c"
      },
      "source": [
        "rg = np.random.default_rng(1) \n",
        "a = np.ones((2, 3), dtype=int)\n",
        "b = rg.random((2, 3))\n",
        "a *= 3\n",
        "a\n",
        "b += a\n",
        "b"
      ],
      "execution_count": 39,
      "outputs": [
        {
          "output_type": "execute_result",
          "data": {
            "text/plain": [
              "array([[3.51182162, 3.9504637 , 3.14415961],\n",
              "       [3.94864945, 3.31183145, 3.42332645]])"
            ]
          },
          "metadata": {},
          "execution_count": 39
        }
      ]
    },
    {
      "cell_type": "markdown",
      "metadata": {
        "id": "ZwDh8od7Y7P8"
      },
      "source": [
        "Universal Functions"
      ]
    },
    {
      "cell_type": "code",
      "metadata": {
        "id": "LuzlsDK7YWkK"
      },
      "source": [
        "B = np.arange(3)\n",
        "B\n",
        "np.exp(B)\n",
        "np.sqrt(B)\n",
        "C = np.array([2., -1., 4.])\n",
        "np.add(B, C) \n",
        "#Indexing and slicing \n",
        "a = np.arange(10)**3 \n",
        "a[2]\n",
        "a[2 : 5] \n",
        "a[ : 6 : 2] = 1000"
      ],
      "execution_count": 49,
      "outputs": []
    }
  ]
}